{
 "cells": [
  {
   "cell_type": "markdown",
   "id": "760949f4",
   "metadata": {},
   "source": [
    "# SpaceX Falcon 9 first stage Landing Prediction\n",
    "Collecting the data\n",
    "In this capstone, we will predict if the Falcon 9 first stage will land successfully. SpaceX advertises Falcon 9 rocket launches on its website with a cost of 62 million dollars; other providers cost upward of 165 million dollars each, much of the savings is because SpaceX can reuse the first stage. Therefore if we can determine if the first stage will land, we can determine the cost of a launch. This information can be used if an alternate company wants to bid against SpaceX for a rocket launch. In this lab, you will collect and make sure the data is in the correct format from an API. The following is an example of a successful and launch.\n",
    "\n",
    "# Objectives\n",
    "In this lab, you will make a get request to the SpaceX API. You will also do some basic data wrangling and formating.\n",
    "\n",
    ".Request to the SpaceX API\n",
    "\n",
    ".Clean the requested data\n",
    " \n",
    " Import Libraries and Define Auxiliary Functions\n",
    " We will import the following libraries into the lab"
   ]
  },
  {
   "cell_type": "code",
   "execution_count": 1,
   "id": "7397125d",
   "metadata": {},
   "outputs": [],
   "source": [
    "# Requests allows us to make HTTP requests which we will use to get data from an API\n",
    "import requests\n",
    "# Pandas is a software library written for the Python programming language for data manipulation and analysis.\n",
    "import pandas as pd\n",
    "# NumPy is a library for the Python programming language, adding support for large, multi-dimensional arrays and matrices, along with a large collection of high-level mathematical functions to operate on these arrays\n",
    "import numpy as np\n",
    "# Datetime is a library that allows us to represent dates\n",
    "import datetime\n",
    "\n",
    "# Setting this option will print all collumns of a dataframe\n",
    "pd.set_option('display.max_columns', None)\n",
    "# Setting this option will print all of the data in a feature\n",
    "pd.set_option('display.max_colwidth', None)"
   ]
  },
  {
   "cell_type": "markdown",
   "id": "d00f5189",
   "metadata": {},
   "source": [
    "Below we will define a series of helper functions that will help us use the API to extract information using identification numbers in the launch data.\n",
    "\n",
    "From the rocket column we would like to learn the booster name."
   ]
  },
  {
   "cell_type": "code",
   "execution_count": 2,
   "id": "132836b4",
   "metadata": {},
   "outputs": [],
   "source": [
    "# Takes the dataset and uses the rocket column to call the API and append the data to the list\n",
    "def getBoosterVersion(data):\n",
    "    for x in data['rocket']:\n",
    "       if x:\n",
    "        response = requests.get(\"https://api.spacexdata.com/v4/rockets/\"+str(x)).json()\n",
    "        BoosterVersion.append(response['name'])"
   ]
  },
  {
   "cell_type": "markdown",
   "id": "c3927005",
   "metadata": {},
   "source": [
    "From the launchpad we would like to know the name of the launch site being used, the logitude, and the latitude.\n"
   ]
  },
  {
   "cell_type": "code",
   "execution_count": 3,
   "id": "90565ea4",
   "metadata": {},
   "outputs": [],
   "source": [
    "# Takes the dataset and uses the launchpad column to call the API and append the data to the list\n",
    "def getLaunchSite(data):\n",
    "    for x in data['launchpad']:\n",
    "       if x:\n",
    "         response = requests.get(\"https://api.spacexdata.com/v4/launchpads/\"+str(x)).json()\n",
    "         Longitude.append(response['longitude'])\n",
    "         Latitude.append(response['latitude'])\n",
    "         LaunchSite.append(response['name'])"
   ]
  },
  {
   "cell_type": "markdown",
   "id": "4d41ff09",
   "metadata": {},
   "source": [
    "From the payload we would like to learn the mass of the payload and the orbit that it is going to."
   ]
  },
  {
   "cell_type": "code",
   "execution_count": 4,
   "id": "23aa34b3",
   "metadata": {},
   "outputs": [],
   "source": [
    "# Takes the dataset and uses the payloads column to call the API and append the data to the lists\n",
    "def getPayloadData(data):\n",
    "    for load in data['payloads']:\n",
    "       if load:\n",
    "        response = requests.get(\"https://api.spacexdata.com/v4/payloads/\"+load).json()\n",
    "        PayloadMass.append(response['mass_kg'])\n",
    "        Orbit.append(response['orbit'])"
   ]
  },
  {
   "cell_type": "markdown",
   "id": "86b50df2",
   "metadata": {},
   "source": [
    "From cores we would like to learn the outcome of the landing, the type of the landing, number of flights with that core, whether gridfins were used, wheter the core is reused, wheter legs were used, the landing pad used, the block of the core which is a number used to seperate version of cores, the number of times this specific core has been reused, and the serial of the core."
   ]
  },
  {
   "cell_type": "code",
   "execution_count": 5,
   "id": "85288474",
   "metadata": {},
   "outputs": [],
   "source": [
    "# Takes the dataset and uses the cores column to call the API and append the data to the lists\n",
    "def getCoreData(data):\n",
    "    for core in data['cores']:\n",
    "            if core['core'] != None:\n",
    "                response = requests.get(\"https://api.spacexdata.com/v4/cores/\"+core['core']).json()\n",
    "                Block.append(response['block'])\n",
    "                ReusedCount.append(response['reuse_count'])\n",
    "                Serial.append(response['serial'])\n",
    "            else:\n",
    "                Block.append(None)\n",
    "                ReusedCount.append(None)\n",
    "                Serial.append(None)\n",
    "            Outcome.append(str(core['landing_success'])+' '+str(core['landing_type']))\n",
    "            Flights.append(core['flight'])\n",
    "            GridFins.append(core['gridfins'])\n",
    "            Reused.append(core['reused'])\n",
    "            Legs.append(core['legs'])\n",
    "            LandingPad.append(core['landpad'])"
   ]
  },
  {
   "cell_type": "markdown",
   "id": "6cec303b",
   "metadata": {},
   "source": [
    "Now let's start requesting rocket launch data from SpaceX API with the following URL:"
   ]
  },
  {
   "cell_type": "code",
   "execution_count": 7,
   "id": "8ce42046",
   "metadata": {},
   "outputs": [],
   "source": [
    "spacex_url=\"https://api.spacexdata.com/v4/launches/past\""
   ]
  },
  {
   "cell_type": "code",
   "execution_count": 8,
   "id": "f0d14fc9",
   "metadata": {},
   "outputs": [],
   "source": [
    "response = requests.get(spacex_url)"
   ]
  },
  {
   "cell_type": "code",
   "execution_count": 9,
   "id": "9256addd",
   "metadata": {},
   "outputs": [],
   "source": [
    "static_json_url='https://cf-courses-data.s3.us.cloud-object-storage.appdomain.cloud/IBM-DS0321EN-SkillsNetwork/datasets/API_call_spacex_api.json'\n"
   ]
  },
  {
   "cell_type": "markdown",
   "id": "e2d44dd3",
   "metadata": {},
   "source": [
    "Check the content of the response\n",
    "\n",
    "You should see the response contains massive information about SpaceX launches. Next, let's try to discover some more relevant information for this project.\n",
    "\n",
    "Task 1: Request and parse the SpaceX launch data using the GET request\n",
    "\n",
    "To make the requested JSON results more consistent, we will use the following static response object for this project:"
   ]
  },
  {
   "cell_type": "code",
   "execution_count": 10,
   "id": "a0337109",
   "metadata": {},
   "outputs": [
    {
     "data": {
      "text/plain": [
       "200"
      ]
     },
     "execution_count": 10,
     "metadata": {},
     "output_type": "execute_result"
    }
   ],
   "source": [
    "response.status_code\n"
   ]
  },
  {
   "cell_type": "code",
   "execution_count": 11,
   "id": "5e93b6e9",
   "metadata": {},
   "outputs": [],
   "source": [
    "static_json_url='https://cf-courses-data.s3.us.cloud-object-storage.appdomain.cloud/IBM-DS0321EN-SkillsNetwork/datasets/API_call_spacex_api.json'\n"
   ]
  },
  {
   "cell_type": "markdown",
   "id": "a14f7820",
   "metadata": {},
   "source": [
    "we should see that the request was successfull with the 200 status response code\n",
    "\n",
    "response.status_code Now we decode the response content as a Json using .json() and turn it into a Pandas dataframe using .json_normalize()"
   ]
  },
  {
   "cell_type": "code",
   "execution_count": 12,
   "id": "6a4a9ff0",
   "metadata": {},
   "outputs": [],
   "source": [
    "# Use json_normalize meethod to convert the json result into a dataframe\n"
   ]
  },
  {
   "cell_type": "code",
   "execution_count": 13,
   "id": "1a8cdd48",
   "metadata": {},
   "outputs": [],
   "source": [
    "data= response.json()\n"
   ]
  },
  {
   "cell_type": "code",
   "execution_count": 14,
   "id": "c1de13d0",
   "metadata": {},
   "outputs": [],
   "source": [
    "data=pd.json_normalize(data)\n"
   ]
  },
  {
   "cell_type": "markdown",
   "id": "e58b0367",
   "metadata": {},
   "source": [
    "# Get the head of the dataframe\n",
    "Using the dataframe data print the first 5 rows"
   ]
  },
  {
   "cell_type": "code",
   "execution_count": 15,
   "id": "40e98761",
   "metadata": {},
   "outputs": [
    {
     "data": {
      "text/html": [
       "<div>\n",
       "<style scoped>\n",
       "    .dataframe tbody tr th:only-of-type {\n",
       "        vertical-align: middle;\n",
       "    }\n",
       "\n",
       "    .dataframe tbody tr th {\n",
       "        vertical-align: top;\n",
       "    }\n",
       "\n",
       "    .dataframe thead th {\n",
       "        text-align: right;\n",
       "    }\n",
       "</style>\n",
       "<table border=\"1\" class=\"dataframe\">\n",
       "  <thead>\n",
       "    <tr style=\"text-align: right;\">\n",
       "      <th></th>\n",
       "      <th>static_fire_date_utc</th>\n",
       "      <th>static_fire_date_unix</th>\n",
       "      <th>net</th>\n",
       "      <th>window</th>\n",
       "      <th>rocket</th>\n",
       "      <th>success</th>\n",
       "      <th>failures</th>\n",
       "      <th>details</th>\n",
       "      <th>crew</th>\n",
       "      <th>ships</th>\n",
       "      <th>capsules</th>\n",
       "      <th>payloads</th>\n",
       "      <th>launchpad</th>\n",
       "      <th>flight_number</th>\n",
       "      <th>name</th>\n",
       "      <th>date_utc</th>\n",
       "      <th>date_unix</th>\n",
       "      <th>date_local</th>\n",
       "      <th>date_precision</th>\n",
       "      <th>upcoming</th>\n",
       "      <th>cores</th>\n",
       "      <th>auto_update</th>\n",
       "      <th>tbd</th>\n",
       "      <th>launch_library_id</th>\n",
       "      <th>id</th>\n",
       "      <th>fairings.reused</th>\n",
       "      <th>fairings.recovery_attempt</th>\n",
       "      <th>fairings.recovered</th>\n",
       "      <th>fairings.ships</th>\n",
       "      <th>links.patch.small</th>\n",
       "      <th>links.patch.large</th>\n",
       "      <th>links.reddit.campaign</th>\n",
       "      <th>links.reddit.launch</th>\n",
       "      <th>links.reddit.media</th>\n",
       "      <th>links.reddit.recovery</th>\n",
       "      <th>links.flickr.small</th>\n",
       "      <th>links.flickr.original</th>\n",
       "      <th>links.presskit</th>\n",
       "      <th>links.webcast</th>\n",
       "      <th>links.youtube_id</th>\n",
       "      <th>links.article</th>\n",
       "      <th>links.wikipedia</th>\n",
       "      <th>fairings</th>\n",
       "    </tr>\n",
       "  </thead>\n",
       "  <tbody>\n",
       "    <tr>\n",
       "      <th>0</th>\n",
       "      <td>2006-03-17T00:00:00.000Z</td>\n",
       "      <td>1.142554e+09</td>\n",
       "      <td>False</td>\n",
       "      <td>0.0</td>\n",
       "      <td>5e9d0d95eda69955f709d1eb</td>\n",
       "      <td>False</td>\n",
       "      <td>[{'time': 33, 'altitude': None, 'reason': 'merlin engine failure'}]</td>\n",
       "      <td>Engine failure at 33 seconds and loss of vehicle</td>\n",
       "      <td>[]</td>\n",
       "      <td>[]</td>\n",
       "      <td>[]</td>\n",
       "      <td>[5eb0e4b5b6c3bb0006eeb1e1]</td>\n",
       "      <td>5e9e4502f5090995de566f86</td>\n",
       "      <td>1</td>\n",
       "      <td>FalconSat</td>\n",
       "      <td>2006-03-24T22:30:00.000Z</td>\n",
       "      <td>1143239400</td>\n",
       "      <td>2006-03-25T10:30:00+12:00</td>\n",
       "      <td>hour</td>\n",
       "      <td>False</td>\n",
       "      <td>[{'core': '5e9e289df35918033d3b2623', 'flight': 1, 'gridfins': False, 'legs': False, 'reused': False, 'landing_attempt': False, 'landing_success': None, 'landing_type': None, 'landpad': None}]</td>\n",
       "      <td>True</td>\n",
       "      <td>False</td>\n",
       "      <td>None</td>\n",
       "      <td>5eb87cd9ffd86e000604b32a</td>\n",
       "      <td>False</td>\n",
       "      <td>False</td>\n",
       "      <td>False</td>\n",
       "      <td>[]</td>\n",
       "      <td>https://images2.imgbox.com/94/f2/NN6Ph45r_o.png</td>\n",
       "      <td>https://images2.imgbox.com/5b/02/QcxHUb5V_o.png</td>\n",
       "      <td>None</td>\n",
       "      <td>None</td>\n",
       "      <td>None</td>\n",
       "      <td>None</td>\n",
       "      <td>[]</td>\n",
       "      <td>[]</td>\n",
       "      <td>None</td>\n",
       "      <td>https://www.youtube.com/watch?v=0a_00nJ_Y88</td>\n",
       "      <td>0a_00nJ_Y88</td>\n",
       "      <td>https://www.space.com/2196-spacex-inaugural-falcon-1-rocket-lost-launch.html</td>\n",
       "      <td>https://en.wikipedia.org/wiki/DemoSat</td>\n",
       "      <td>NaN</td>\n",
       "    </tr>\n",
       "    <tr>\n",
       "      <th>1</th>\n",
       "      <td>None</td>\n",
       "      <td>NaN</td>\n",
       "      <td>False</td>\n",
       "      <td>0.0</td>\n",
       "      <td>5e9d0d95eda69955f709d1eb</td>\n",
       "      <td>False</td>\n",
       "      <td>[{'time': 301, 'altitude': 289, 'reason': 'harmonic oscillation leading to premature engine shutdown'}]</td>\n",
       "      <td>Successful first stage burn and transition to second stage, maximum altitude 289 km, Premature engine shutdown at T+7 min 30 s, Failed to reach orbit, Failed to recover first stage</td>\n",
       "      <td>[]</td>\n",
       "      <td>[]</td>\n",
       "      <td>[]</td>\n",
       "      <td>[5eb0e4b6b6c3bb0006eeb1e2]</td>\n",
       "      <td>5e9e4502f5090995de566f86</td>\n",
       "      <td>2</td>\n",
       "      <td>DemoSat</td>\n",
       "      <td>2007-03-21T01:10:00.000Z</td>\n",
       "      <td>1174439400</td>\n",
       "      <td>2007-03-21T13:10:00+12:00</td>\n",
       "      <td>hour</td>\n",
       "      <td>False</td>\n",
       "      <td>[{'core': '5e9e289ef35918416a3b2624', 'flight': 1, 'gridfins': False, 'legs': False, 'reused': False, 'landing_attempt': False, 'landing_success': None, 'landing_type': None, 'landpad': None}]</td>\n",
       "      <td>True</td>\n",
       "      <td>False</td>\n",
       "      <td>None</td>\n",
       "      <td>5eb87cdaffd86e000604b32b</td>\n",
       "      <td>False</td>\n",
       "      <td>False</td>\n",
       "      <td>False</td>\n",
       "      <td>[]</td>\n",
       "      <td>https://images2.imgbox.com/f9/4a/ZboXReNb_o.png</td>\n",
       "      <td>https://images2.imgbox.com/80/a2/bkWotCIS_o.png</td>\n",
       "      <td>None</td>\n",
       "      <td>None</td>\n",
       "      <td>None</td>\n",
       "      <td>None</td>\n",
       "      <td>[]</td>\n",
       "      <td>[]</td>\n",
       "      <td>None</td>\n",
       "      <td>https://www.youtube.com/watch?v=Lk4zQ2wP-Nc</td>\n",
       "      <td>Lk4zQ2wP-Nc</td>\n",
       "      <td>https://www.space.com/3590-spacex-falcon-1-rocket-fails-reach-orbit.html</td>\n",
       "      <td>https://en.wikipedia.org/wiki/DemoSat</td>\n",
       "      <td>NaN</td>\n",
       "    </tr>\n",
       "  </tbody>\n",
       "</table>\n",
       "</div>"
      ],
      "text/plain": [
       "       static_fire_date_utc  static_fire_date_unix    net  window  \\\n",
       "0  2006-03-17T00:00:00.000Z           1.142554e+09  False     0.0   \n",
       "1                      None                    NaN  False     0.0   \n",
       "\n",
       "                     rocket success  \\\n",
       "0  5e9d0d95eda69955f709d1eb   False   \n",
       "1  5e9d0d95eda69955f709d1eb   False   \n",
       "\n",
       "                                                                                                  failures  \\\n",
       "0                                      [{'time': 33, 'altitude': None, 'reason': 'merlin engine failure'}]   \n",
       "1  [{'time': 301, 'altitude': 289, 'reason': 'harmonic oscillation leading to premature engine shutdown'}]   \n",
       "\n",
       "                                                                                                                                                                                details  \\\n",
       "0                                                                                                                                      Engine failure at 33 seconds and loss of vehicle   \n",
       "1  Successful first stage burn and transition to second stage, maximum altitude 289 km, Premature engine shutdown at T+7 min 30 s, Failed to reach orbit, Failed to recover first stage   \n",
       "\n",
       "  crew ships capsules                    payloads                 launchpad  \\\n",
       "0   []    []       []  [5eb0e4b5b6c3bb0006eeb1e1]  5e9e4502f5090995de566f86   \n",
       "1   []    []       []  [5eb0e4b6b6c3bb0006eeb1e2]  5e9e4502f5090995de566f86   \n",
       "\n",
       "   flight_number       name                  date_utc   date_unix  \\\n",
       "0              1  FalconSat  2006-03-24T22:30:00.000Z  1143239400   \n",
       "1              2    DemoSat  2007-03-21T01:10:00.000Z  1174439400   \n",
       "\n",
       "                  date_local date_precision  upcoming  \\\n",
       "0  2006-03-25T10:30:00+12:00           hour     False   \n",
       "1  2007-03-21T13:10:00+12:00           hour     False   \n",
       "\n",
       "                                                                                                                                                                                              cores  \\\n",
       "0  [{'core': '5e9e289df35918033d3b2623', 'flight': 1, 'gridfins': False, 'legs': False, 'reused': False, 'landing_attempt': False, 'landing_success': None, 'landing_type': None, 'landpad': None}]   \n",
       "1  [{'core': '5e9e289ef35918416a3b2624', 'flight': 1, 'gridfins': False, 'legs': False, 'reused': False, 'landing_attempt': False, 'landing_success': None, 'landing_type': None, 'landpad': None}]   \n",
       "\n",
       "   auto_update    tbd launch_library_id                        id  \\\n",
       "0         True  False              None  5eb87cd9ffd86e000604b32a   \n",
       "1         True  False              None  5eb87cdaffd86e000604b32b   \n",
       "\n",
       "  fairings.reused fairings.recovery_attempt fairings.recovered fairings.ships  \\\n",
       "0           False                     False              False             []   \n",
       "1           False                     False              False             []   \n",
       "\n",
       "                                 links.patch.small  \\\n",
       "0  https://images2.imgbox.com/94/f2/NN6Ph45r_o.png   \n",
       "1  https://images2.imgbox.com/f9/4a/ZboXReNb_o.png   \n",
       "\n",
       "                                 links.patch.large links.reddit.campaign  \\\n",
       "0  https://images2.imgbox.com/5b/02/QcxHUb5V_o.png                  None   \n",
       "1  https://images2.imgbox.com/80/a2/bkWotCIS_o.png                  None   \n",
       "\n",
       "  links.reddit.launch links.reddit.media links.reddit.recovery  \\\n",
       "0                None               None                  None   \n",
       "1                None               None                  None   \n",
       "\n",
       "  links.flickr.small links.flickr.original links.presskit  \\\n",
       "0                 []                    []           None   \n",
       "1                 []                    []           None   \n",
       "\n",
       "                                 links.webcast links.youtube_id  \\\n",
       "0  https://www.youtube.com/watch?v=0a_00nJ_Y88      0a_00nJ_Y88   \n",
       "1  https://www.youtube.com/watch?v=Lk4zQ2wP-Nc      Lk4zQ2wP-Nc   \n",
       "\n",
       "                                                                  links.article  \\\n",
       "0  https://www.space.com/2196-spacex-inaugural-falcon-1-rocket-lost-launch.html   \n",
       "1      https://www.space.com/3590-spacex-falcon-1-rocket-fails-reach-orbit.html   \n",
       "\n",
       "                         links.wikipedia  fairings  \n",
       "0  https://en.wikipedia.org/wiki/DemoSat       NaN  \n",
       "1  https://en.wikipedia.org/wiki/DemoSat       NaN  "
      ]
     },
     "execution_count": 15,
     "metadata": {},
     "output_type": "execute_result"
    }
   ],
   "source": [
    "data.head(2)\n"
   ]
  },
  {
   "cell_type": "code",
   "execution_count": 16,
   "id": "e1ee4a2e",
   "metadata": {},
   "outputs": [
    {
     "name": "stdout",
     "output_type": "stream",
     "text": [
      "<class 'pandas.core.frame.DataFrame'>\n",
      "RangeIndex: 187 entries, 0 to 186\n",
      "Data columns (total 43 columns):\n",
      " #   Column                     Non-Null Count  Dtype  \n",
      "---  ------                     --------------  -----  \n",
      " 0   static_fire_date_utc       121 non-null    object \n",
      " 1   static_fire_date_unix      121 non-null    float64\n",
      " 2   net                        187 non-null    bool   \n",
      " 3   window                     117 non-null    float64\n",
      " 4   rocket                     187 non-null    object \n",
      " 5   success                    186 non-null    object \n",
      " 6   failures                   187 non-null    object \n",
      " 7   details                    134 non-null    object \n",
      " 8   crew                       187 non-null    object \n",
      " 9   ships                      187 non-null    object \n",
      " 10  capsules                   187 non-null    object \n",
      " 11  payloads                   187 non-null    object \n",
      " 12  launchpad                  187 non-null    object \n",
      " 13  flight_number              187 non-null    int64  \n",
      " 14  name                       187 non-null    object \n",
      " 15  date_utc                   187 non-null    object \n",
      " 16  date_unix                  187 non-null    int64  \n",
      " 17  date_local                 187 non-null    object \n",
      " 18  date_precision             187 non-null    object \n",
      " 19  upcoming                   187 non-null    bool   \n",
      " 20  cores                      187 non-null    object \n",
      " 21  auto_update                187 non-null    bool   \n",
      " 22  tbd                        187 non-null    bool   \n",
      " 23  launch_library_id          69 non-null     object \n",
      " 24  id                         187 non-null    object \n",
      " 25  fairings.reused            93 non-null     object \n",
      " 26  fairings.recovery_attempt  107 non-null    object \n",
      " 27  fairings.recovered         85 non-null     object \n",
      " 28  fairings.ships             152 non-null    object \n",
      " 29  links.patch.small          187 non-null    object \n",
      " 30  links.patch.large          187 non-null    object \n",
      " 31  links.reddit.campaign      148 non-null    object \n",
      " 32  links.reddit.launch        164 non-null    object \n",
      " 33  links.reddit.media         88 non-null     object \n",
      " 34  links.reddit.recovery      93 non-null     object \n",
      " 35  links.flickr.small         187 non-null    object \n",
      " 36  links.flickr.original      187 non-null    object \n",
      " 37  links.presskit             91 non-null     object \n",
      " 38  links.webcast              185 non-null    object \n",
      " 39  links.youtube_id           185 non-null    object \n",
      " 40  links.article              142 non-null    object \n",
      " 41  links.wikipedia            155 non-null    object \n",
      " 42  fairings                   0 non-null      float64\n",
      "dtypes: bool(4), float64(3), int64(2), object(34)\n",
      "memory usage: 57.8+ KB\n"
     ]
    }
   ],
   "source": [
    "data.info()"
   ]
  },
  {
   "cell_type": "markdown",
   "id": "11c8fa26",
   "metadata": {},
   "source": [
    "You will notice that a lot of the data are IDs. For example the rocket column has no information about the rocket just an identification number.\n",
    "\n",
    "We will now use the API again to get information about the launches using the IDs given for each launch. Specifically we will be using columns rocket, payloads, launchpad, and cores."
   ]
  },
  {
   "cell_type": "code",
   "execution_count": 17,
   "id": "e9fb7e1c",
   "metadata": {},
   "outputs": [],
   "source": [
    "# Lets take a subset of our dataframe keeping only the features we want and the flight number, and date_utc.\n",
    "data = data[['rocket', 'payloads', 'launchpad', 'cores', 'flight_number', 'date_utc']]\n",
    "\n",
    "# We will remove rows with multiple cores because those are falcon rockets with 2 extra rocket boosters and rows that have multiple payloads in a single rocket.\n",
    "data = data[data['cores'].map(len)==1]\n",
    "data = data[data['payloads'].map(len)==1]\n",
    "\n",
    "# Since payloads and cores are lists of size 1 we will also extract the single value in the list and replace the feature.\n",
    "data['cores'] = data['cores'].map(lambda x : x[0])\n",
    "data['payloads'] = data['payloads'].map(lambda x : x[0])\n",
    "\n",
    "# We also want to convert the date_utc to a datetime datatype and then extracting the date leaving the time\n",
    "data['date'] = pd.to_datetime(data['date_utc']).dt.date\n",
    "\n",
    "# Using the date we will restrict the dates of the launches\n",
    "data = data[data['date'] <= datetime.date(2020, 11, 13)]"
   ]
  },
  {
   "cell_type": "markdown",
   "id": "f1f48c58",
   "metadata": {},
   "source": [
    ".From the rocket we would like to learn the booster name\n",
    "\n",
    ".From the payload we would like to learn the mass of the payload and the orbit that it is going to\n",
    "\n",
    ".From the launchpad we would like to know the name of the launch site being used, the longitude, and the latitude.\n",
    "\n",
    ".From cores we would like to learn the outcome of the landing, the type of the landing, number of flights with that core, \n",
    "whether gridfins were used, whether the core is reused, whether legs were used, the landing pad used, the block of the core which is a number used to seperate version of cores, the number of times this specific core has been reused, and the serial of the core.\n",
    "\n",
    "The data from these requests will be stored in lists and will be used to create a new dataframe."
   ]
  },
  {
   "cell_type": "code",
   "execution_count": 18,
   "id": "24afda8c",
   "metadata": {},
   "outputs": [],
   "source": [
    "BoosterVersion = []\n",
    "PayloadMass = []\n",
    "Orbit = []\n",
    "LaunchSite = []\n",
    "Outcome = []\n",
    "Flights = []\n",
    "GridFins = []\n",
    "Reused = []\n",
    "Legs = []\n",
    "LandingPad = []\n",
    "Block = []\n",
    "ReusedCount = []\n",
    "Serial = []\n",
    "Longitude = []\n",
    "Latitude = []"
   ]
  },
  {
   "cell_type": "markdown",
   "id": "a56caedb",
   "metadata": {},
   "source": [
    "These functions will apply the outputs globally to the above variables. Let's take a looks at BoosterVersion variable. Before we apply getBoosterVersion the list is empty:\n",
    "\n"
   ]
  },
  {
   "cell_type": "code",
   "execution_count": 19,
   "id": "24053f49",
   "metadata": {},
   "outputs": [],
   "source": [
    "rockets= requests.get(\"https://api.spacexdata.com/v4/rockets/\").json()\n"
   ]
  },
  {
   "cell_type": "code",
   "execution_count": 20,
   "id": "5ce57a8e",
   "metadata": {},
   "outputs": [],
   "source": [
    "def getBoosterVersion(data):\n",
    "    for x in data['rocket']:\n",
    "        response= requests.get(\"https://api.spacexdata.com/v4/rockets/\"+ str(x)).json()\n",
    "        BoosterVersion.append(response['name'])"
   ]
  },
  {
   "cell_type": "markdown",
   "id": "2237fdb7",
   "metadata": {},
   "source": [
    "Now, let's apply getBoosterVersion function method to get the booster version\n",
    "\n"
   ]
  },
  {
   "cell_type": "code",
   "execution_count": 22,
   "id": "7398f29b",
   "metadata": {},
   "outputs": [],
   "source": [
    "# Call getBoosterVersion\n"
   ]
  },
  {
   "cell_type": "code",
   "execution_count": 23,
   "id": "643721e9",
   "metadata": {},
   "outputs": [],
   "source": [
    "getBoosterVersion(data)"
   ]
  },
  {
   "cell_type": "code",
   "execution_count": 24,
   "id": "051e20cf",
   "metadata": {},
   "outputs": [
    {
     "name": "stdout",
     "output_type": "stream",
     "text": [
      "['Falcon 1', 'Falcon 1', 'Falcon 1', 'Falcon 1', 'Falcon 9', 'Falcon 9', 'Falcon 9', 'Falcon 9', 'Falcon 9', 'Falcon 9', 'Falcon 9', 'Falcon 9', 'Falcon 9', 'Falcon 9', 'Falcon 9', 'Falcon 9', 'Falcon 9', 'Falcon 9', 'Falcon 9', 'Falcon 9', 'Falcon 9', 'Falcon 9', 'Falcon 9', 'Falcon 9', 'Falcon 9', 'Falcon 9', 'Falcon 9', 'Falcon 9', 'Falcon 9', 'Falcon 9', 'Falcon 9', 'Falcon 9', 'Falcon 9', 'Falcon 9', 'Falcon 9', 'Falcon 9', 'Falcon 9', 'Falcon 9', 'Falcon 9', 'Falcon 9', 'Falcon 9', 'Falcon 9', 'Falcon 9', 'Falcon 9', 'Falcon 9', 'Falcon 9', 'Falcon 9', 'Falcon 9', 'Falcon 9', 'Falcon 9', 'Falcon 9', 'Falcon 9', 'Falcon 9', 'Falcon 9', 'Falcon 9', 'Falcon 9', 'Falcon 9', 'Falcon 9', 'Falcon 9', 'Falcon 9', 'Falcon 9', 'Falcon 9', 'Falcon 9', 'Falcon 9', 'Falcon 9', 'Falcon 9', 'Falcon 9', 'Falcon 9', 'Falcon 9', 'Falcon 9', 'Falcon 9', 'Falcon 9', 'Falcon 9', 'Falcon 9', 'Falcon 9', 'Falcon 9', 'Falcon 9', 'Falcon 9', 'Falcon 9', 'Falcon 9', 'Falcon 9', 'Falcon 9', 'Falcon 9', 'Falcon 9', 'Falcon 9', 'Falcon 9', 'Falcon 9', 'Falcon 9', 'Falcon 9', 'Falcon 9', 'Falcon 9', 'Falcon 9', 'Falcon 9', 'Falcon 9']\n"
     ]
    }
   ],
   "source": [
    "print(BoosterVersion)"
   ]
  },
  {
   "cell_type": "markdown",
   "id": "ad66a407",
   "metadata": {},
   "source": [
    "we can apply the rest of the functions here:\n"
   ]
  },
  {
   "cell_type": "code",
   "execution_count": 25,
   "id": "c6c3740a",
   "metadata": {},
   "outputs": [],
   "source": [
    "# Call getPayloadData\n"
   ]
  },
  {
   "cell_type": "code",
   "execution_count": 26,
   "id": "e0836107",
   "metadata": {},
   "outputs": [],
   "source": [
    "def getPayloadData(data):\n",
    "    for load in data['payloads']:\n",
    "        response= requests.get(\"https://api.spacexdata.com/v4/payloads/\"+ load).json()\n",
    "        PayloadMass.append(response['mass_kg'])\n",
    "        Orbit.append(response['orbit'])"
   ]
  },
  {
   "cell_type": "code",
   "execution_count": 27,
   "id": "9dca8575",
   "metadata": {},
   "outputs": [],
   "source": [
    "getPayloadData(data)\n"
   ]
  },
  {
   "cell_type": "markdown",
   "id": "62f6f7ec",
   "metadata": {},
   "source": [
    "the list has now been update"
   ]
  },
  {
   "cell_type": "code",
   "execution_count": 28,
   "id": "df0c06df",
   "metadata": {},
   "outputs": [
    {
     "data": {
      "text/plain": [
       "[20, None, 165, 200]"
      ]
     },
     "execution_count": 28,
     "metadata": {},
     "output_type": "execute_result"
    }
   ],
   "source": [
    "PayloadMass[0:4]"
   ]
  },
  {
   "cell_type": "code",
   "execution_count": 29,
   "id": "99e48a07",
   "metadata": {},
   "outputs": [
    {
     "data": {
      "text/plain": [
       "['LEO', 'LEO', 'LEO', 'LEO']"
      ]
     },
     "execution_count": 29,
     "metadata": {},
     "output_type": "execute_result"
    }
   ],
   "source": [
    "Orbit[0:4]\n"
   ]
  },
  {
   "cell_type": "code",
   "execution_count": 30,
   "id": "425cc459",
   "metadata": {},
   "outputs": [],
   "source": [
    "# Call getLaunchSite\n"
   ]
  },
  {
   "cell_type": "code",
   "execution_count": 31,
   "id": "3ccea8d4",
   "metadata": {},
   "outputs": [],
   "source": [
    "def getLaunchSite(data):\n",
    "    for x in data['launchpad']:\n",
    "        response= requests.get(\"https://api.spacexdata.com/v4/launchpads/\"+str(data['launchpad'][0])).json()\n",
    "        LaunchSite.append(response['name'])\n",
    "        Longitude.append(response['longitude'])\n",
    "        Latitude.append(response['latitude'])"
   ]
  },
  {
   "cell_type": "code",
   "execution_count": 32,
   "id": "13799951",
   "metadata": {},
   "outputs": [],
   "source": [
    "getLaunchSite(data)\n"
   ]
  },
  {
   "cell_type": "code",
   "execution_count": 33,
   "id": "955e2da7",
   "metadata": {},
   "outputs": [
    {
     "data": {
      "text/plain": [
       "['Kwajalein Atoll', 'Kwajalein Atoll', 'Kwajalein Atoll', 'Kwajalein Atoll']"
      ]
     },
     "execution_count": 33,
     "metadata": {},
     "output_type": "execute_result"
    }
   ],
   "source": [
    "LaunchSite[0:4]\n"
   ]
  },
  {
   "cell_type": "code",
   "execution_count": 34,
   "id": "19e90509",
   "metadata": {},
   "outputs": [],
   "source": [
    "def getCoreData(data):\n",
    "    for core in data['cores']:\n",
    "        if core['core'] !=None:\n",
    "            response= requests.get(\"https://api.spacexdata.com/v4/cores/\"+core['core']).json()\n",
    "            Block.append(response['block'])\n",
    "            ReusedCount.append(response['reuse_count'])\n",
    "            Serial.append(response['serial'])\n",
    "        else:\n",
    "            Block.append(None)\n",
    "            ReusedCount.append(None)\n",
    "            Serial.append(None)\n",
    "        Outcome.append(str(core['landing_success'])+' '+str(core['landing_type']))\n",
    "        Flights.append(core['flight'])\n",
    "        GridFins.append(core['gridfins'])\n",
    "        Reused.append(core['reused'])\n",
    "        Legs.append(core['legs'])\n",
    "        LandingPad.append(core['landpad'])     "
   ]
  },
  {
   "cell_type": "code",
   "execution_count": 35,
   "id": "21e7e665",
   "metadata": {},
   "outputs": [],
   "source": [
    "getCoreData(data)\n"
   ]
  },
  {
   "cell_type": "code",
   "execution_count": 36,
   "id": "d55a12cb",
   "metadata": {},
   "outputs": [
    {
     "data": {
      "text/plain": [
       "['None None', 'None None', 'None None', 'None None', 'None None', 'None None']"
      ]
     },
     "execution_count": 36,
     "metadata": {},
     "output_type": "execute_result"
    }
   ],
   "source": [
    "Outcome[0:6]\n"
   ]
  },
  {
   "cell_type": "markdown",
   "id": "3c527cfd",
   "metadata": {},
   "source": [
    "# Finally lets construct our dataset using the data we have obtained. We we combine the columns into a dictionary.\n"
   ]
  },
  {
   "cell_type": "code",
   "execution_count": 37,
   "id": "2b9c1274",
   "metadata": {},
   "outputs": [],
   "source": [
    "launch_dict = {'FlightNumber': list(data['flight_number']),\n",
    "'Date': list(data['date']),\n",
    "'BoosterVersion':BoosterVersion,\n",
    "'PayloadMass':PayloadMass,\n",
    "'Orbit':Orbit,\n",
    "'LaunchSite':LaunchSite,\n",
    "'Outcome':Outcome,\n",
    "'Flights':Flights,\n",
    "'GridFins':GridFins,\n",
    "'Reused':Reused,\n",
    "'Legs':Legs,\n",
    "'LandingPad':LandingPad,\n",
    "'Block':Block,\n",
    "'ReusedCount':ReusedCount,\n",
    "'Serial':Serial,\n",
    "'Longitude': Longitude,\n",
    "'Latitude': Latitude}"
   ]
  },
  {
   "cell_type": "markdown",
   "id": "15a0ffef",
   "metadata": {},
   "source": [
    "Then, we need to create a Pandas data frame from the dictionary launch_dict.\n",
    "\n"
   ]
  },
  {
   "cell_type": "code",
   "execution_count": 39,
   "id": "61fab3f7",
   "metadata": {},
   "outputs": [],
   "source": [
    "# Create a data from launch_dict\n"
   ]
  },
  {
   "cell_type": "code",
   "execution_count": 45,
   "id": "ea909204",
   "metadata": {},
   "outputs": [
    {
     "data": {
      "text/plain": [
       "94"
      ]
     },
     "execution_count": 45,
     "metadata": {},
     "output_type": "execute_result"
    }
   ],
   "source": [
    "len(GridFins)\n"
   ]
  },
  {
   "cell_type": "code",
   "execution_count": 46,
   "id": "3f7af811",
   "metadata": {},
   "outputs": [],
   "source": [
    "def pad_dict_list(dict_list, padel):\n",
    "    lmax = 0\n",
    "    for lname in dict_list.keys():\n",
    "        lmax = max(lmax, len(dict_list[lname]))\n",
    "    for lname in dict_list.keys():\n",
    "        l1 = len(dict_list[lname])\n",
    "        if l1 < lmax:\n",
    "            dict_list[lname] += [padel] * (lmax - l1)\n",
    "    return dict_list"
   ]
  },
  {
   "cell_type": "code",
   "execution_count": 42,
   "id": "01107e79",
   "metadata": {},
   "outputs": [
    {
     "name": "stdout",
     "output_type": "stream",
     "text": [
      "{'FlightNumber': [1, 2, 4, 5, 6, 8, 10, 11, 12, 13, 14, 15, 16, 17, 18, 19, 20, 22, 23, 24, 25, 26, 27, 28, 29, 30, 32, 33, 34, 35, 36, 37, 38, 39, 40, 41, 42, 43, 44, 45, 46, 47, 48, 49, 50, 51, 52, 53, 54, 57, 58, 59, 60, 61, 63, 64, 65, 66, 67, 68, 69, 70, 71, 72, 73, 74, 76, 78, 79, 80, 82, 83, 84, 85, 86, 87, 88, 89, 90, 91, 92, 93, 94, 95, 96, 97, 98, 100, 101, 102, 103, 104, 105, 106], 'Date': [datetime.date(2006, 3, 24), datetime.date(2007, 3, 21), datetime.date(2008, 9, 28), datetime.date(2009, 7, 13), datetime.date(2010, 6, 4), datetime.date(2012, 5, 22), datetime.date(2013, 3, 1), datetime.date(2013, 9, 29), datetime.date(2013, 12, 3), datetime.date(2014, 1, 6), datetime.date(2014, 4, 18), datetime.date(2014, 7, 14), datetime.date(2014, 8, 5), datetime.date(2014, 9, 7), datetime.date(2014, 9, 21), datetime.date(2015, 1, 10), datetime.date(2015, 2, 11), datetime.date(2015, 4, 14), datetime.date(2015, 4, 27), datetime.date(2015, 6, 28), datetime.date(2015, 12, 22), datetime.date(2016, 1, 17), datetime.date(2016, 3, 4), datetime.date(2016, 4, 8), datetime.date(2016, 5, 6), datetime.date(2016, 5, 27), datetime.date(2016, 7, 18), datetime.date(2016, 8, 14), datetime.date(2016, 9, 1), datetime.date(2017, 1, 14), datetime.date(2017, 2, 19), datetime.date(2017, 3, 16), datetime.date(2017, 3, 30), datetime.date(2017, 5, 1), datetime.date(2017, 5, 15), datetime.date(2017, 6, 3), datetime.date(2017, 6, 23), datetime.date(2017, 6, 25), datetime.date(2017, 7, 5), datetime.date(2017, 8, 14), datetime.date(2017, 8, 24), datetime.date(2017, 9, 7), datetime.date(2017, 10, 9), datetime.date(2017, 10, 11), datetime.date(2017, 10, 30), datetime.date(2017, 12, 15), datetime.date(2017, 12, 23), datetime.date(2018, 1, 8), datetime.date(2018, 1, 31), datetime.date(2018, 3, 6), datetime.date(2018, 3, 30), datetime.date(2018, 4, 2), datetime.date(2018, 4, 18), datetime.date(2018, 5, 11), datetime.date(2018, 6, 4), datetime.date(2018, 6, 29), datetime.date(2018, 7, 22), datetime.date(2018, 7, 25), datetime.date(2018, 8, 7), datetime.date(2018, 9, 10), datetime.date(2018, 10, 8), datetime.date(2018, 11, 15), datetime.date(2018, 12, 3), datetime.date(2018, 12, 5), datetime.date(2018, 12, 23), datetime.date(2019, 1, 11), datetime.date(2019, 3, 2), datetime.date(2019, 5, 4), datetime.date(2019, 5, 24), datetime.date(2019, 6, 12), datetime.date(2019, 7, 25), datetime.date(2019, 8, 6), datetime.date(2019, 11, 11), datetime.date(2019, 12, 5), datetime.date(2019, 12, 17), datetime.date(2020, 1, 7), datetime.date(2020, 1, 19), datetime.date(2020, 1, 29), datetime.date(2020, 2, 17), datetime.date(2020, 3, 7), datetime.date(2020, 3, 18), datetime.date(2020, 4, 22), datetime.date(2020, 5, 30), datetime.date(2020, 6, 4), datetime.date(2020, 6, 13), datetime.date(2020, 6, 30), datetime.date(2020, 7, 20), datetime.date(2020, 8, 18), datetime.date(2020, 8, 30), datetime.date(2020, 9, 3), datetime.date(2020, 10, 6), datetime.date(2020, 10, 18), datetime.date(2020, 10, 24), datetime.date(2020, 11, 5)], 'BoosterVersion': ['Falcon 1', 'Falcon 1', 'Falcon 1', 'Falcon 1', 'Falcon 9', 'Falcon 9', 'Falcon 9', 'Falcon 9', 'Falcon 9', 'Falcon 9', 'Falcon 9', 'Falcon 9', 'Falcon 9', 'Falcon 9', 'Falcon 9', 'Falcon 9', 'Falcon 9', 'Falcon 9', 'Falcon 9', 'Falcon 9', 'Falcon 9', 'Falcon 9', 'Falcon 9', 'Falcon 9', 'Falcon 9', 'Falcon 9', 'Falcon 9', 'Falcon 9', 'Falcon 9', 'Falcon 9', 'Falcon 9', 'Falcon 9', 'Falcon 9', 'Falcon 9', 'Falcon 9', 'Falcon 9', 'Falcon 9', 'Falcon 9', 'Falcon 9', 'Falcon 9', 'Falcon 9', 'Falcon 9', 'Falcon 9', 'Falcon 9', 'Falcon 9', 'Falcon 9', 'Falcon 9', 'Falcon 9', 'Falcon 9', 'Falcon 9', 'Falcon 9', 'Falcon 9', 'Falcon 9', 'Falcon 9', 'Falcon 9', 'Falcon 9', 'Falcon 9', 'Falcon 9', 'Falcon 9', 'Falcon 9', 'Falcon 9', 'Falcon 9', 'Falcon 9', 'Falcon 9', 'Falcon 9', 'Falcon 9', 'Falcon 9', 'Falcon 9', 'Falcon 9', 'Falcon 9', 'Falcon 9', 'Falcon 9', 'Falcon 9', 'Falcon 9', 'Falcon 9', 'Falcon 9', 'Falcon 9', 'Falcon 9', 'Falcon 9', 'Falcon 9', 'Falcon 9', 'Falcon 9', 'Falcon 9', 'Falcon 9', 'Falcon 9', 'Falcon 9', 'Falcon 9', 'Falcon 9', 'Falcon 9', 'Falcon 9', 'Falcon 9', 'Falcon 9', 'Falcon 9', 'Falcon 9'], 'PayloadMass': [20, None, 165, 200, None, 525, 677, 500, 3170, 3325, 2296, 1316, 4535, 4428, 2216, 2395, 570, 1898, 4707, 2477, 2034, 553, 5271, 3136, 4696, 3100, 2257, 4600, 5500, 9600, 2490, 5600, 5300, None, 6070, 2708, 3669, 9600, 6761, 2910, 475, 4990, 9600, 5200, 3700, 2205, 9600, None, 4230, 6092, 9600, 2760, 350, 3750, 5383.85, 2410, 7076, 9600, 5800, 7060, 2800, 3000, 4000, 2573, 4400, 9600, 12259, 2482, 13200, 1425, 2227.7, 6500, 15600, 5000, 6800, 15600, None, 15600, 15600, 1977, 15600, 15600, 9525, 15600, 15600, 3880, None, 15600, 1600, 15600, 15600, 15600, 15600, 3681], 'Orbit': ['LEO', 'LEO', 'LEO', 'LEO', 'LEO', 'LEO', 'ISS', 'PO', 'GTO', 'GTO', 'ISS', 'LEO', 'GTO', 'GTO', 'ISS', 'ISS', 'ES-L1', 'ISS', 'GTO', 'ISS', 'LEO', 'PO', 'GTO', 'ISS', 'GTO', 'GTO', 'ISS', 'GTO', 'GTO', 'PO', 'ISS', 'GTO', 'GTO', 'LEO', 'GTO', 'ISS', 'GTO', 'PO', 'GTO', 'ISS', 'SSO', 'LEO', 'PO', 'GTO', 'GTO', 'ISS', 'PO', 'LEO', 'GTO', 'GTO', 'PO', 'ISS', 'HEO', 'GTO', 'GTO', 'ISS', 'GTO', 'PO', 'GTO', 'GTO', 'SSO', 'GTO', 'SSO', 'ISS', 'MEO', 'PO', 'ISS', 'ISS', 'VLEO', 'SSO', 'ISS', 'GTO', 'VLEO', 'ISS', 'GTO', 'VLEO', 'SO', 'VLEO', 'VLEO', 'ISS', 'VLEO', 'VLEO', 'ISS', 'VLEO', 'VLEO', 'MEO', 'GEO', 'VLEO', 'SSO', 'VLEO', 'VLEO', 'VLEO', 'VLEO', 'MEO'], 'LaunchSite': ['Kwajalein Atoll', 'Kwajalein Atoll', 'Kwajalein Atoll', 'Kwajalein Atoll', 'Kwajalein Atoll', 'Kwajalein Atoll', 'Kwajalein Atoll', 'Kwajalein Atoll', 'Kwajalein Atoll', 'Kwajalein Atoll', 'Kwajalein Atoll', 'Kwajalein Atoll', 'Kwajalein Atoll', 'Kwajalein Atoll', 'Kwajalein Atoll', 'Kwajalein Atoll', 'Kwajalein Atoll', 'Kwajalein Atoll', 'Kwajalein Atoll', 'Kwajalein Atoll', 'Kwajalein Atoll', 'Kwajalein Atoll', 'Kwajalein Atoll', 'Kwajalein Atoll', 'Kwajalein Atoll', 'Kwajalein Atoll', 'Kwajalein Atoll', 'Kwajalein Atoll', 'Kwajalein Atoll', 'Kwajalein Atoll', 'Kwajalein Atoll', 'Kwajalein Atoll', 'Kwajalein Atoll', 'Kwajalein Atoll', 'Kwajalein Atoll', 'Kwajalein Atoll', 'Kwajalein Atoll', 'Kwajalein Atoll', 'Kwajalein Atoll', 'Kwajalein Atoll', 'Kwajalein Atoll', 'Kwajalein Atoll', 'Kwajalein Atoll', 'Kwajalein Atoll', 'Kwajalein Atoll', 'Kwajalein Atoll', 'Kwajalein Atoll', 'Kwajalein Atoll', 'Kwajalein Atoll', 'Kwajalein Atoll', 'Kwajalein Atoll', 'Kwajalein Atoll', 'Kwajalein Atoll', 'Kwajalein Atoll', 'Kwajalein Atoll', 'Kwajalein Atoll', 'Kwajalein Atoll', 'Kwajalein Atoll', 'Kwajalein Atoll', 'Kwajalein Atoll', 'Kwajalein Atoll', 'Kwajalein Atoll', 'Kwajalein Atoll', 'Kwajalein Atoll', 'Kwajalein Atoll', 'Kwajalein Atoll', 'Kwajalein Atoll', 'Kwajalein Atoll', 'Kwajalein Atoll', 'Kwajalein Atoll', 'Kwajalein Atoll', 'Kwajalein Atoll', 'Kwajalein Atoll', 'Kwajalein Atoll', 'Kwajalein Atoll', 'Kwajalein Atoll', 'Kwajalein Atoll', 'Kwajalein Atoll', 'Kwajalein Atoll', 'Kwajalein Atoll', 'Kwajalein Atoll', 'Kwajalein Atoll', 'Kwajalein Atoll', 'Kwajalein Atoll', 'Kwajalein Atoll', 'Kwajalein Atoll', 'Kwajalein Atoll', 'Kwajalein Atoll', 'Kwajalein Atoll', 'Kwajalein Atoll', 'Kwajalein Atoll', 'Kwajalein Atoll', 'Kwajalein Atoll', 'Kwajalein Atoll'], 'Outcome': ['None None', 'None None', 'None None', 'None None', 'None None', 'None None', 'None None', 'False Ocean', 'None None', 'None None', 'True Ocean', 'True Ocean', 'None None', 'None None', 'False Ocean', 'False ASDS', 'True Ocean', 'False ASDS', 'None None', 'None ASDS', 'True RTLS', 'False ASDS', 'False ASDS', 'True ASDS', 'True ASDS', 'True ASDS', 'True RTLS', 'True ASDS', 'None ASDS', 'True ASDS', 'True RTLS', 'None None', 'True ASDS', 'True RTLS', 'None None', 'True RTLS', 'True ASDS', 'True ASDS', 'None None', 'True RTLS', 'True ASDS', 'True RTLS', 'True ASDS', 'True ASDS', 'True ASDS', 'True RTLS', 'True Ocean', 'True RTLS', 'True Ocean', 'None None', 'None None', 'None None', 'True ASDS', 'True ASDS', 'None None', 'None None', 'True ASDS', 'True ASDS', 'True ASDS', 'True ASDS', 'True RTLS', 'True ASDS', 'True ASDS', 'False RTLS', 'None None', 'True ASDS', 'True ASDS', 'True ASDS', 'True ASDS', 'True RTLS', 'True RTLS', 'None None', 'True ASDS', 'True ASDS', 'True ASDS', 'True ASDS', 'None None', 'True ASDS', 'False ASDS', 'True RTLS', 'False ASDS', 'True ASDS', 'True ASDS', 'True ASDS', 'True ASDS', 'True ASDS', 'True ASDS', 'True ASDS', 'True RTLS', 'True ASDS', 'True ASDS', 'True ASDS', 'True ASDS', 'True ASDS'], 'Flights': [1, 1, 1, 1, 1, 1, 1, 1, 1, 1, 1, 1, 1, 1, 1, 1, 1, 1, 1, 1, 1, 1, 1, 1, 1, 1, 1, 1, 1, 1, 1, 1, 2, 1, 1, 1, 2, 1, 1, 1, 1, 1, 1, 2, 1, 2, 2, 1, 2, 1, 2, 2, 1, 1, 2, 2, 1, 1, 2, 1, 2, 2, 3, 1, 1, 2, 1, 1, 3, 2, 2, 3, 4, 1, 3, 4, 4, 3, 4, 2, 5, 4, 1, 5, 3, 1, 2, 6, 4, 2, 3, 6, 3, 1], 'GridFins': [False, False, False, False, False, False, False, False, False, False, False, False, False, False, False, True, True, True, False, True, True, True, True, True, True, True, True, True, True, True, True, False, True, True, False, True, True, True, False, True, True, True, True, True, True, True, True, True, True, True, True, True, True, True, False, False, True, True, True, True, True, True, True, True, False, True, True, True, True, True, True, False, True, True, True, True, False, True, True, True, True, True, True, True, True, True, True, True, True, True, True, True, True, True], 'Reused': [False, False, False, False, False, False, False, False, False, False, False, False, False, False, False, False, False, False, False, False, False, False, False, False, False, False, False, False, False, False, False, False, True, False, False, False, True, False, False, False, False, False, False, True, False, True, True, False, True, False, True, True, False, False, True, True, False, False, True, False, True, True, True, False, False, True, False, False, True, True, True, True, True, False, True, True, True, True, True, True, True, True, False, True, True, False, True, True, True, True, True, True, True, False], 'Legs': [False, False, False, False, False, False, False, False, False, False, True, True, False, False, False, True, True, True, False, True, True, True, True, True, True, True, True, True, True, True, True, False, True, True, False, True, True, True, False, True, True, True, True, True, True, True, False, True, True, True, True, True, True, True, False, False, True, True, True, True, True, True, True, True, False, True, True, True, True, True, True, False, True, True, True, True, False, True, True, True, True, True, True, True, True, True, True, True, True, True, True, True, True, True], 'LandingPad': [None, None, None, None, None, None, None, None, None, None, None, None, None, None, None, '5e9e3032383ecb761634e7cb', None, '5e9e3032383ecb761634e7cb', None, '5e9e3032383ecb6bb234e7ca', '5e9e3032383ecb267a34e7c7', '5e9e3033383ecbb9e534e7cc', '5e9e3032383ecb6bb234e7ca', '5e9e3032383ecb6bb234e7ca', '5e9e3032383ecb6bb234e7ca', '5e9e3032383ecb6bb234e7ca', '5e9e3032383ecb267a34e7c7', '5e9e3032383ecb6bb234e7ca', '5e9e3032383ecb6bb234e7ca', '5e9e3033383ecbb9e534e7cc', '5e9e3032383ecb267a34e7c7', None, '5e9e3032383ecb6bb234e7ca', '5e9e3032383ecb267a34e7c7', None, '5e9e3032383ecb267a34e7c7', '5e9e3032383ecb6bb234e7ca', '5e9e3033383ecbb9e534e7cc', None, '5e9e3032383ecb267a34e7c7', '5e9e3033383ecbb9e534e7cc', '5e9e3032383ecb267a34e7c7', '5e9e3033383ecbb9e534e7cc', '5e9e3032383ecb6bb234e7ca', '5e9e3032383ecb6bb234e7ca', '5e9e3032383ecb267a34e7c7', None, '5e9e3032383ecb267a34e7c7', None, None, None, None, '5e9e3032383ecb6bb234e7ca', '5e9e3032383ecb6bb234e7ca', None, None, '5e9e3032383ecb6bb234e7ca', '5e9e3033383ecbb9e534e7cc', '5e9e3032383ecb6bb234e7ca', '5e9e3032383ecb6bb234e7ca', '5e9e3032383ecb554034e7c9', '5e9e3032383ecb6bb234e7ca', '5e9e3033383ecbb9e534e7cc', '5e9e3032383ecb267a34e7c7', None, '5e9e3033383ecbb9e534e7cc', '5e9e3032383ecb6bb234e7ca', '5e9e3032383ecb6bb234e7ca', '5e9e3032383ecb6bb234e7ca', '5e9e3032383ecb554034e7c9', '5e9e3032383ecb267a34e7c7', None, '5e9e3032383ecb6bb234e7ca', '5e9e3032383ecb6bb234e7ca', '5e9e3032383ecb6bb234e7ca', '5e9e3032383ecb6bb234e7ca', None, '5e9e3032383ecb6bb234e7ca', '5e9e3032383ecb6bb234e7ca', '5e9e3032383ecb267a34e7c7', '5e9e3032383ecb6bb234e7ca', '5e9e3032383ecb6bb234e7ca', '5e9e3032383ecb6bb234e7ca', '5e9e3033383ecbb9e534e7cc', '5e9e3032383ecb6bb234e7ca', '5e9e3033383ecbb9e534e7cc', '5e9e3033383ecbb9e534e7cc', '5e9e3032383ecb6bb234e7ca', '5e9e3032383ecb267a34e7c7', '5e9e3032383ecb6bb234e7ca', '5e9e3032383ecb6bb234e7ca', '5e9e3032383ecb6bb234e7ca', '5e9e3033383ecbb9e534e7cc', '5e9e3032383ecb6bb234e7ca'], 'Block': [None, None, None, None, 1, 1, 1, 1, 1, 1, 1, 1, 1, 1, 1, 1, 1, 1, 1, 1, 1, 1, 1, 2, 2, 2, 2, 2, 3, 3, 3, 3, 2, 3, 3, 3, 3, 3, 3, 4, 3, 4, 4, 3, 4, 3, 3, 4, 3, 4, 4, 4, 4, 5, 4, 4, 5, 5, 5, 5, 5, 5, 5, 5, 5, 5, 5, 5, 5, 5, 5, 5, 5, 5, 5, 5, 5, 5, 5, 5, 5, 5, 5, 5, 5, 5, 5, 5, 5, 5, 5, 5, 5, 5], 'ReusedCount': [0, 0, 0, 0, 0, 0, 0, 0, 0, 0, 0, 0, 0, 0, 0, 0, 0, 0, 0, 0, 0, 0, 0, 1, 0, 1, 1, 0, 0, 1, 1, 0, 1, 1, 0, 1, 1, 1, 0, 1, 1, 1, 1, 1, 0, 1, 1, 1, 1, 0, 1, 1, 1, 3, 1, 1, 2, 4, 3, 9, 4, 2, 3, 0, 0, 9, 12, 3, 9, 12, 3, 2, 4, 5, 3, 9, 3, 12, 3, 5, 4, 12, 13, 9, 5, 12, 13, 9, 5, 12, 13, 12, 12, 8], 'Serial': ['Merlin1A', 'Merlin2A', 'Merlin2C', 'Merlin3C', 'B0003', 'B0005', 'B0007', 'B1003', 'B1004', 'B1005', 'B1006', 'B1007', 'B1008', 'B1011', 'B1010', 'B1012', 'B1013', 'B1015', 'B1016', 'B1018', 'B1019', 'B1017', 'B1020', 'B1021', 'B1022', 'B1023', 'B1025', 'B1026', 'B1028', 'B1029', 'B1031', 'B1030', 'B1021', 'B1032', 'B1034', 'B1035', 'B1029', 'B1036', 'B1037', 'B1039', 'B1038', 'B1040', 'B1041', 'B1031', 'B1042', 'B1035', 'B1036', 'B1043', 'B1032', 'B1044', 'B1041', 'B1039', 'B1045', 'B1046', 'B1040', 'B1045', 'B1047', 'B1048', 'B1046', 'B1049', 'B1048', 'B1047', 'B1046', 'B1050', 'B1054', 'B1049', 'B1051', 'B1056', 'B1049', 'B1051', 'B1056', 'B1047', 'B1048', 'B1059', 'B1056', 'B1049', 'B1046', 'B1051', 'B1056', 'B1059', 'B1048', 'B1051', 'B1058', 'B1049', 'B1059', 'B1060', 'B1058', 'B1049', 'B1059', 'B1060', 'B1058', 'B1051', 'B1060', 'B1062'], 'Longitude': [167.7431292, 167.7431292, 167.7431292, 167.7431292, 167.7431292, 167.7431292, 167.7431292, 167.7431292, 167.7431292, 167.7431292, 167.7431292, 167.7431292, 167.7431292, 167.7431292, 167.7431292, 167.7431292, 167.7431292, 167.7431292, 167.7431292, 167.7431292, 167.7431292, 167.7431292, 167.7431292, 167.7431292, 167.7431292, 167.7431292, 167.7431292, 167.7431292, 167.7431292, 167.7431292, 167.7431292, 167.7431292, 167.7431292, 167.7431292, 167.7431292, 167.7431292, 167.7431292, 167.7431292, 167.7431292, 167.7431292, 167.7431292, 167.7431292, 167.7431292, 167.7431292, 167.7431292, 167.7431292, 167.7431292, 167.7431292, 167.7431292, 167.7431292, 167.7431292, 167.7431292, 167.7431292, 167.7431292, 167.7431292, 167.7431292, 167.7431292, 167.7431292, 167.7431292, 167.7431292, 167.7431292, 167.7431292, 167.7431292, 167.7431292, 167.7431292, 167.7431292, 167.7431292, 167.7431292, 167.7431292, 167.7431292, 167.7431292, 167.7431292, 167.7431292, 167.7431292, 167.7431292, 167.7431292, 167.7431292, 167.7431292, 167.7431292, 167.7431292, 167.7431292, 167.7431292, 167.7431292, 167.7431292, 167.7431292, 167.7431292, 167.7431292, 167.7431292, 167.7431292, 167.7431292, 167.7431292, 167.7431292, 167.7431292, 167.7431292], 'Latitude': [9.0477206, 9.0477206, 9.0477206, 9.0477206, 9.0477206, 9.0477206, 9.0477206, 9.0477206, 9.0477206, 9.0477206, 9.0477206, 9.0477206, 9.0477206, 9.0477206, 9.0477206, 9.0477206, 9.0477206, 9.0477206, 9.0477206, 9.0477206, 9.0477206, 9.0477206, 9.0477206, 9.0477206, 9.0477206, 9.0477206, 9.0477206, 9.0477206, 9.0477206, 9.0477206, 9.0477206, 9.0477206, 9.0477206, 9.0477206, 9.0477206, 9.0477206, 9.0477206, 9.0477206, 9.0477206, 9.0477206, 9.0477206, 9.0477206, 9.0477206, 9.0477206, 9.0477206, 9.0477206, 9.0477206, 9.0477206, 9.0477206, 9.0477206, 9.0477206, 9.0477206, 9.0477206, 9.0477206, 9.0477206, 9.0477206, 9.0477206, 9.0477206, 9.0477206, 9.0477206, 9.0477206, 9.0477206, 9.0477206, 9.0477206, 9.0477206, 9.0477206, 9.0477206, 9.0477206, 9.0477206, 9.0477206, 9.0477206, 9.0477206, 9.0477206, 9.0477206, 9.0477206, 9.0477206, 9.0477206, 9.0477206, 9.0477206, 9.0477206, 9.0477206, 9.0477206, 9.0477206, 9.0477206, 9.0477206, 9.0477206, 9.0477206, 9.0477206, 9.0477206, 9.0477206, 9.0477206, 9.0477206, 9.0477206, 9.0477206]}\n"
     ]
    }
   ],
   "source": [
    "print(pad_dict_list(launch_dict, 0))\n"
   ]
  },
  {
   "cell_type": "code",
   "execution_count": 47,
   "id": "87e4b4e7",
   "metadata": {},
   "outputs": [],
   "source": [
    "data2 = pd.DataFrame(launch_dict)\n"
   ]
  },
  {
   "cell_type": "code",
   "execution_count": 48,
   "id": "62b807cc",
   "metadata": {},
   "outputs": [
    {
     "name": "stdout",
     "output_type": "stream",
     "text": [
      "<class 'pandas.core.frame.DataFrame'>\n",
      "RangeIndex: 94 entries, 0 to 93\n",
      "Data columns (total 17 columns):\n",
      " #   Column          Non-Null Count  Dtype  \n",
      "---  ------          --------------  -----  \n",
      " 0   FlightNumber    94 non-null     int64  \n",
      " 1   Date            94 non-null     object \n",
      " 2   BoosterVersion  94 non-null     object \n",
      " 3   PayloadMass     88 non-null     float64\n",
      " 4   Orbit           94 non-null     object \n",
      " 5   LaunchSite      94 non-null     object \n",
      " 6   Outcome         94 non-null     object \n",
      " 7   Flights         94 non-null     int64  \n",
      " 8   GridFins        94 non-null     bool   \n",
      " 9   Reused          94 non-null     bool   \n",
      " 10  Legs            94 non-null     bool   \n",
      " 11  LandingPad      64 non-null     object \n",
      " 12  Block           90 non-null     float64\n",
      " 13  ReusedCount     94 non-null     int64  \n",
      " 14  Serial          94 non-null     object \n",
      " 15  Longitude       94 non-null     float64\n",
      " 16  Latitude        94 non-null     float64\n",
      "dtypes: bool(3), float64(4), int64(3), object(7)\n",
      "memory usage: 10.7+ KB\n"
     ]
    }
   ],
   "source": [
    "data2.info()\n"
   ]
  },
  {
   "cell_type": "markdown",
   "id": "6a2b9e7f",
   "metadata": {},
   "source": [
    "# Task 2: Filter the dataframe to only include Falcon 9 launches\n",
    "Then, we need to create a Pandas data frame from the dictionary launch_dict.\n",
    "\n"
   ]
  },
  {
   "cell_type": "code",
   "execution_count": 49,
   "id": "c876c860",
   "metadata": {},
   "outputs": [],
   "source": [
    "# Hint data['BoosterVersion']!='Falcon 1'\n"
   ]
  },
  {
   "cell_type": "code",
   "execution_count": 50,
   "id": "e711d2c8",
   "metadata": {},
   "outputs": [],
   "source": [
    "data_falcon9 = data2[data2['BoosterVersion'] == 'Falcon9']\n"
   ]
  },
  {
   "cell_type": "markdown",
   "id": "3aba390b",
   "metadata": {},
   "source": [
    "Now that we have removed some values we should reset the FlgihtNumber column"
   ]
  },
  {
   "cell_type": "code",
   "execution_count": 52,
   "id": "5e7304ff",
   "metadata": {},
   "outputs": [
    {
     "data": {
      "text/html": [
       "<div>\n",
       "<style scoped>\n",
       "    .dataframe tbody tr th:only-of-type {\n",
       "        vertical-align: middle;\n",
       "    }\n",
       "\n",
       "    .dataframe tbody tr th {\n",
       "        vertical-align: top;\n",
       "    }\n",
       "\n",
       "    .dataframe thead th {\n",
       "        text-align: right;\n",
       "    }\n",
       "</style>\n",
       "<table border=\"1\" class=\"dataframe\">\n",
       "  <thead>\n",
       "    <tr style=\"text-align: right;\">\n",
       "      <th></th>\n",
       "      <th>FlightNumber</th>\n",
       "      <th>Date</th>\n",
       "      <th>BoosterVersion</th>\n",
       "      <th>PayloadMass</th>\n",
       "      <th>Orbit</th>\n",
       "      <th>LaunchSite</th>\n",
       "      <th>Outcome</th>\n",
       "      <th>Flights</th>\n",
       "      <th>GridFins</th>\n",
       "      <th>Reused</th>\n",
       "      <th>Legs</th>\n",
       "      <th>LandingPad</th>\n",
       "      <th>Block</th>\n",
       "      <th>ReusedCount</th>\n",
       "      <th>Serial</th>\n",
       "      <th>Longitude</th>\n",
       "      <th>Latitude</th>\n",
       "    </tr>\n",
       "  </thead>\n",
       "  <tbody>\n",
       "  </tbody>\n",
       "</table>\n",
       "</div>"
      ],
      "text/plain": [
       "Empty DataFrame\n",
       "Columns: [FlightNumber, Date, BoosterVersion, PayloadMass, Orbit, LaunchSite, Outcome, Flights, GridFins, Reused, Legs, LandingPad, Block, ReusedCount, Serial, Longitude, Latitude]\n",
       "Index: []"
      ]
     },
     "execution_count": 52,
     "metadata": {},
     "output_type": "execute_result"
    }
   ],
   "source": [
    "data_falcon9.loc[:,'FlightNumber'] = list(range(1, data_falcon9.shape[0]+1))\n",
    "data_falcon9"
   ]
  },
  {
   "cell_type": "code",
   "execution_count": 53,
   "id": "aa80f360",
   "metadata": {},
   "outputs": [],
   "source": [
    "data_falcon9.to_csv('data_falcon9_week01.csv' , index=False)\n"
   ]
  },
  {
   "cell_type": "markdown",
   "id": "c46c7f87",
   "metadata": {},
   "source": [
    "# Data Wrangling\n"
   ]
  },
  {
   "cell_type": "markdown",
   "id": "dff6094e",
   "metadata": {},
   "source": [
    "We can see below that some of the rows are missing values in our dataset.\n",
    "\n"
   ]
  },
  {
   "cell_type": "code",
   "execution_count": 54,
   "id": "a6a6de0f",
   "metadata": {},
   "outputs": [
    {
     "data": {
      "text/plain": [
       "FlightNumber      0.0\n",
       "Date              0.0\n",
       "BoosterVersion    0.0\n",
       "PayloadMass       0.0\n",
       "Orbit             0.0\n",
       "LaunchSite        0.0\n",
       "Outcome           0.0\n",
       "Flights           0.0\n",
       "GridFins          0.0\n",
       "Reused            0.0\n",
       "Legs              0.0\n",
       "LandingPad        0.0\n",
       "Block             0.0\n",
       "ReusedCount       0.0\n",
       "Serial            0.0\n",
       "Longitude         0.0\n",
       "Latitude          0.0\n",
       "dtype: float64"
      ]
     },
     "execution_count": 54,
     "metadata": {},
     "output_type": "execute_result"
    }
   ],
   "source": [
    "data_falcon9.isnull().sum()\n"
   ]
  },
  {
   "cell_type": "markdown",
   "id": "8a213de9",
   "metadata": {},
   "source": [
    "Before we can continue we must deal with these missing values. The LandingPad column will retain None values to represent when landing pads were not used.\n"
   ]
  },
  {
   "cell_type": "markdown",
   "id": "575fe65b",
   "metadata": {},
   "source": [
    "# Task 3: Dealing with Missing Values\n",
    "Calculate below the mean for the PayloadMass using the .mean(). Then use the mean and the .replace() function to replace np.nan values in the data with the mean you calculated."
   ]
  },
  {
   "cell_type": "code",
   "execution_count": 55,
   "id": "2a0c4878",
   "metadata": {},
   "outputs": [],
   "source": [
    "# Calculate the mean value of PayloadMass column\n",
    "\n",
    "# Replace the np.nan values with its mean value"
   ]
  },
  {
   "cell_type": "code",
   "execution_count": 56,
   "id": "2176f685",
   "metadata": {},
   "outputs": [],
   "source": [
    "# data_falcon9.to_csv('dataset_part_1.csv', index=False)\n"
   ]
  },
  {
   "cell_type": "markdown",
   "id": "b3a3118a",
   "metadata": {},
   "source": [
    "You should see the number of missing values of the PayLoadMass change to zero.\n",
    "Now we should have no missing values in our dataset except for in LandingPad.\n",
    "We can now export it to a CSV for the next section,but to make the answers consistent, in the next lab we will provide data in a pre-selected date range."
   ]
  },
  {
   "cell_type": "code",
   "execution_count": 57,
   "id": "3bcdaa8e",
   "metadata": {},
   "outputs": [],
   "source": [
    "data_falcon9.to_csv('dataset_part_1.csv', index=False)"
   ]
  },
  {
   "cell_type": "code",
   "execution_count": null,
   "id": "5f9b0ae4",
   "metadata": {},
   "outputs": [],
   "source": []
  }
 ],
 "metadata": {
  "kernelspec": {
   "display_name": "Python 3 (ipykernel)",
   "language": "python",
   "name": "python3"
  },
  "language_info": {
   "codemirror_mode": {
    "name": "ipython",
    "version": 3
   },
   "file_extension": ".py",
   "mimetype": "text/x-python",
   "name": "python",
   "nbconvert_exporter": "python",
   "pygments_lexer": "ipython3",
   "version": "3.9.12"
  }
 },
 "nbformat": 4,
 "nbformat_minor": 5
}
