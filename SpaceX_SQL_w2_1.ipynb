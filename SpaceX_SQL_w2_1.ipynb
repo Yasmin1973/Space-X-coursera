{
 "cells": [
  {
   "cell_type": "markdown",
   "id": "bc86adab",
   "metadata": {},
   "source": [
    "# Introduction\n",
    "Using this Python notebook you will:\n",
    "\n",
    "Understand the Spacex DataSet\n",
    "Load the dataset into the corresponding table in a Db2 database\n",
    "Execute SQL queries to answer assignment questions\n",
    "\n",
    "# Overview of the DataSet\n",
    "SpaceX has gained worldwide attention for a series of historic milestones.\n",
    "\n",
    "It is the only private company ever to return a spacecraft from low-earth orbit, which it first accomplished in December 2010. SpaceX advertises Falcon 9 rocket launches on its website with a cost of 62 million dollars wheras other providers cost upward of 165 million dollars each, much of the savings is because Space X can reuse the first stage.\n",
    "\n",
    "Therefore if we can determine if the first stage will land, we can determine the cost of a launch.\n",
    "\n",
    "This information can be used if an alternate company wants to bid against SpaceX for a rocket launch.\n",
    "\n",
    "This dataset includes a record for each payload carried during a SpaceX mission into outer space.\n",
    "\n",
    "# Download the datasets\n",
    "This assignment requires you to load the spacex dataset.\n",
    "\n",
    "In many cases the dataset to be analyzed is available as a .CSV (comma separated values) file, perhaps on the internet. Click on the link below to download and save the dataset (.CSV file):\n",
    "\n",
    "Spacex DataSet"
   ]
  },
  {
   "cell_type": "code",
   "execution_count": 1,
   "id": "013bed2f",
   "metadata": {},
   "outputs": [
    {
     "name": "stdout",
     "output_type": "stream",
     "text": [
      "Collecting sqlalchemy==1.3.9\n",
      "  Downloading SQLAlchemy-1.3.9.tar.gz (6.0 MB)\n",
      "Building wheels for collected packages: sqlalchemy\n",
      "  Building wheel for sqlalchemy (setup.py): started\n",
      "  Building wheel for sqlalchemy (setup.py): finished with status 'done'\n",
      "  Created wheel for sqlalchemy: filename=SQLAlchemy-1.3.9-cp39-cp39-win_amd64.whl size=1142938 sha256=34723b54a2b10f4527917c55d3f2762e610014726366e8c9185f234918006d09\n",
      "  Stored in directory: c:\\users\\17032\\appdata\\local\\pip\\cache\\wheels\\5b\\43\\0d\\de1699809f9e6aaa54a97275298fa07075cb19acc557b18955\n",
      "Successfully built sqlalchemy\n",
      "Installing collected packages: sqlalchemy\n",
      "  Attempting uninstall: sqlalchemy\n",
      "    Found existing installation: SQLAlchemy 1.4.32\n",
      "    Uninstalling SQLAlchemy-1.4.32:\n",
      "      Successfully uninstalled SQLAlchemy-1.4.32\n",
      "Successfully installed sqlalchemy-1.3.9\n"
     ]
    }
   ],
   "source": [
    "!pip install sqlalchemy==1.3.9\n"
   ]
  },
  {
   "cell_type": "markdown",
   "id": "7c7553f5",
   "metadata": {},
   "source": [
    "Requirement already satisfied: sqlalchemy==1.3.9 in c:\\users\\nasim\\anaconda3\\lib\\site-packages (1.3.9)\n"
   ]
  },
  {
   "cell_type": "markdown",
   "id": "db2b4463",
   "metadata": {},
   "source": [
    "# Connect to the database\n",
    "Let us first load the SQL extension and establish a connection with the database"
   ]
  },
  {
   "cell_type": "code",
   "execution_count": 2,
   "id": "93d889b1",
   "metadata": {},
   "outputs": [],
   "source": [
    "#%load_ext sql\n"
   ]
  },
  {
   "cell_type": "code",
   "execution_count": 3,
   "id": "f7562b62",
   "metadata": {},
   "outputs": [],
   "source": [
    "import csv, sqlite3\n",
    "\n",
    "con = sqlite3.connect(\"my_data1.db\")\n",
    "cur = con.cursor()"
   ]
  },
  {
   "cell_type": "code",
   "execution_count": 4,
   "id": "96c34088",
   "metadata": {},
   "outputs": [],
   "source": [
    "!pip install -q pandas==1.1.5\n"
   ]
  },
  {
   "cell_type": "code",
   "execution_count": 5,
   "id": "a53951bf",
   "metadata": {},
   "outputs": [
    {
     "name": "stderr",
     "output_type": "stream",
     "text": [
      "UsageError: Line magic function `%sql` not found.\n"
     ]
    }
   ],
   "source": [
    "%sql sqlite:///my_data1.db\n"
   ]
  },
  {
   "cell_type": "code",
   "execution_count": 6,
   "id": "5ccae188",
   "metadata": {},
   "outputs": [
    {
     "name": "stderr",
     "output_type": "stream",
     "text": [
      "C:\\Users\\17032\\anaconda3\\lib\\site-packages\\pandas\\core\\generic.py:2605: UserWarning: The spaces in these column names will not be changed. In pandas versions < 0.14, spaces were converted to underscores.\n",
      "  sql.to_sql(\n"
     ]
    }
   ],
   "source": [
    "import pandas as pd\n",
    "df = pd.read_csv(\"https://cf-courses-data.s3.us.cloud-object-storage.appdomain.cloud/IBM-DS0321EN-SkillsNetwork/labs/module_2/data/Spacex.csv\")\n",
    "df.to_sql(\"SPACEXTBL\", con, if_exists='replace', index=False,method=\"multi\")"
   ]
  },
  {
   "cell_type": "markdown",
   "id": "0b4a79c7",
   "metadata": {},
   "source": [
    "# Tasks\n",
    "Now write and execute SQL queries to solve the assignment tasks.\n",
    "\n",
    "Note: If the column names are in mixed case enclose it in double quotes For Example \"Landing_Outcome\"\n",
    "\n",
    "# Task 1\n",
    "Display the names of the unique launch sites in the space mission"
   ]
  },
  {
   "cell_type": "code",
   "execution_count": 8,
   "id": "1a5a71d1",
   "metadata": {},
   "outputs": [
    {
     "data": {
      "text/plain": [
       "{'CCAFS LC-40', 'CCAFS SLC-40', 'KSC LC-39A', 'VAFB SLC-4E'}"
      ]
     },
     "execution_count": 8,
     "metadata": {},
     "output_type": "execute_result"
    }
   ],
   "source": [
    "set(df['Launch_Site'])\n"
   ]
  },
  {
   "cell_type": "markdown",
   "id": "8295bb46",
   "metadata": {},
   "source": [
    "# Task 2\n",
    "Display 5 records where launch sites begin with the string 'CCA'"
   ]
  },
  {
   "cell_type": "code",
   "execution_count": 9,
   "id": "384b5347",
   "metadata": {},
   "outputs": [],
   "source": [
    "df_CCA= df[df['Launch_Site']=='CCAFS LC-40']\n"
   ]
  },
  {
   "cell_type": "code",
   "execution_count": 10,
   "id": "e60c917c",
   "metadata": {},
   "outputs": [
    {
     "data": {
      "text/html": [
       "<div>\n",
       "<style scoped>\n",
       "    .dataframe tbody tr th:only-of-type {\n",
       "        vertical-align: middle;\n",
       "    }\n",
       "\n",
       "    .dataframe tbody tr th {\n",
       "        vertical-align: top;\n",
       "    }\n",
       "\n",
       "    .dataframe thead th {\n",
       "        text-align: right;\n",
       "    }\n",
       "</style>\n",
       "<table border=\"1\" class=\"dataframe\">\n",
       "  <thead>\n",
       "    <tr style=\"text-align: right;\">\n",
       "      <th></th>\n",
       "      <th>Date</th>\n",
       "      <th>Time (UTC)</th>\n",
       "      <th>Booster_Version</th>\n",
       "      <th>Launch_Site</th>\n",
       "      <th>Payload</th>\n",
       "      <th>PAYLOAD_MASS__KG_</th>\n",
       "      <th>Orbit</th>\n",
       "      <th>Customer</th>\n",
       "      <th>Mission_Outcome</th>\n",
       "      <th>Landing _Outcome</th>\n",
       "    </tr>\n",
       "  </thead>\n",
       "  <tbody>\n",
       "    <tr>\n",
       "      <th>0</th>\n",
       "      <td>04-06-2010</td>\n",
       "      <td>18:45:00</td>\n",
       "      <td>F9 v1.0  B0003</td>\n",
       "      <td>CCAFS LC-40</td>\n",
       "      <td>Dragon Spacecraft Qualification Unit</td>\n",
       "      <td>0</td>\n",
       "      <td>LEO</td>\n",
       "      <td>SpaceX</td>\n",
       "      <td>Success</td>\n",
       "      <td>Failure (parachute)</td>\n",
       "    </tr>\n",
       "    <tr>\n",
       "      <th>1</th>\n",
       "      <td>08-12-2010</td>\n",
       "      <td>15:43:00</td>\n",
       "      <td>F9 v1.0  B0004</td>\n",
       "      <td>CCAFS LC-40</td>\n",
       "      <td>Dragon demo flight C1, two CubeSats, barrel of...</td>\n",
       "      <td>0</td>\n",
       "      <td>LEO (ISS)</td>\n",
       "      <td>NASA (COTS) NRO</td>\n",
       "      <td>Success</td>\n",
       "      <td>Failure (parachute)</td>\n",
       "    </tr>\n",
       "    <tr>\n",
       "      <th>2</th>\n",
       "      <td>22-05-2012</td>\n",
       "      <td>07:44:00</td>\n",
       "      <td>F9 v1.0  B0005</td>\n",
       "      <td>CCAFS LC-40</td>\n",
       "      <td>Dragon demo flight C2</td>\n",
       "      <td>525</td>\n",
       "      <td>LEO (ISS)</td>\n",
       "      <td>NASA (COTS)</td>\n",
       "      <td>Success</td>\n",
       "      <td>No attempt</td>\n",
       "    </tr>\n",
       "    <tr>\n",
       "      <th>3</th>\n",
       "      <td>08-10-2012</td>\n",
       "      <td>00:35:00</td>\n",
       "      <td>F9 v1.0  B0006</td>\n",
       "      <td>CCAFS LC-40</td>\n",
       "      <td>SpaceX CRS-1</td>\n",
       "      <td>500</td>\n",
       "      <td>LEO (ISS)</td>\n",
       "      <td>NASA (CRS)</td>\n",
       "      <td>Success</td>\n",
       "      <td>No attempt</td>\n",
       "    </tr>\n",
       "    <tr>\n",
       "      <th>4</th>\n",
       "      <td>01-03-2013</td>\n",
       "      <td>15:10:00</td>\n",
       "      <td>F9 v1.0  B0007</td>\n",
       "      <td>CCAFS LC-40</td>\n",
       "      <td>SpaceX CRS-2</td>\n",
       "      <td>677</td>\n",
       "      <td>LEO (ISS)</td>\n",
       "      <td>NASA (CRS)</td>\n",
       "      <td>Success</td>\n",
       "      <td>No attempt</td>\n",
       "    </tr>\n",
       "  </tbody>\n",
       "</table>\n",
       "</div>"
      ],
      "text/plain": [
       "         Date Time (UTC) Booster_Version  Launch_Site  \\\n",
       "0  04-06-2010   18:45:00  F9 v1.0  B0003  CCAFS LC-40   \n",
       "1  08-12-2010   15:43:00  F9 v1.0  B0004  CCAFS LC-40   \n",
       "2  22-05-2012   07:44:00  F9 v1.0  B0005  CCAFS LC-40   \n",
       "3  08-10-2012   00:35:00  F9 v1.0  B0006  CCAFS LC-40   \n",
       "4  01-03-2013   15:10:00  F9 v1.0  B0007  CCAFS LC-40   \n",
       "\n",
       "                                             Payload  PAYLOAD_MASS__KG_  \\\n",
       "0               Dragon Spacecraft Qualification Unit                  0   \n",
       "1  Dragon demo flight C1, two CubeSats, barrel of...                  0   \n",
       "2                              Dragon demo flight C2                525   \n",
       "3                                       SpaceX CRS-1                500   \n",
       "4                                       SpaceX CRS-2                677   \n",
       "\n",
       "       Orbit         Customer Mission_Outcome     Landing _Outcome  \n",
       "0        LEO           SpaceX         Success  Failure (parachute)  \n",
       "1  LEO (ISS)  NASA (COTS) NRO         Success  Failure (parachute)  \n",
       "2  LEO (ISS)      NASA (COTS)         Success           No attempt  \n",
       "3  LEO (ISS)       NASA (CRS)         Success           No attempt  \n",
       "4  LEO (ISS)       NASA (CRS)         Success           No attempt  "
      ]
     },
     "execution_count": 10,
     "metadata": {},
     "output_type": "execute_result"
    }
   ],
   "source": [
    "df_CCA.head()\n"
   ]
  },
  {
   "cell_type": "markdown",
   "id": "e0f5249d",
   "metadata": {},
   "source": [
    "# Task 3\n",
    "Display the total payload mass carried by boosters launched by NASA (CRS)"
   ]
  },
  {
   "cell_type": "code",
   "execution_count": 11,
   "id": "405132c0",
   "metadata": {},
   "outputs": [
    {
     "name": "stdout",
     "output_type": "stream",
     "text": [
      "<class 'pandas.core.frame.DataFrame'>\n",
      "RangeIndex: 101 entries, 0 to 100\n",
      "Data columns (total 10 columns):\n",
      " #   Column             Non-Null Count  Dtype \n",
      "---  ------             --------------  ----- \n",
      " 0   Date               101 non-null    object\n",
      " 1   Time (UTC)         101 non-null    object\n",
      " 2   Booster_Version    101 non-null    object\n",
      " 3   Launch_Site        101 non-null    object\n",
      " 4   Payload            101 non-null    object\n",
      " 5   PAYLOAD_MASS__KG_  101 non-null    int64 \n",
      " 6   Orbit              101 non-null    object\n",
      " 7   Customer           101 non-null    object\n",
      " 8   Mission_Outcome    101 non-null    object\n",
      " 9   Landing _Outcome   101 non-null    object\n",
      "dtypes: int64(1), object(9)\n",
      "memory usage: 8.0+ KB\n"
     ]
    }
   ],
   "source": [
    "df.info()\n"
   ]
  },
  {
   "cell_type": "code",
   "execution_count": 12,
   "id": "c0da1f82",
   "metadata": {},
   "outputs": [
    {
     "data": {
      "text/html": [
       "<div>\n",
       "<style scoped>\n",
       "    .dataframe tbody tr th:only-of-type {\n",
       "        vertical-align: middle;\n",
       "    }\n",
       "\n",
       "    .dataframe tbody tr th {\n",
       "        vertical-align: top;\n",
       "    }\n",
       "\n",
       "    .dataframe thead th {\n",
       "        text-align: right;\n",
       "    }\n",
       "</style>\n",
       "<table border=\"1\" class=\"dataframe\">\n",
       "  <thead>\n",
       "    <tr style=\"text-align: right;\">\n",
       "      <th></th>\n",
       "      <th>PAYLOAD_MASS__KG_</th>\n",
       "      <th>Booster_Version</th>\n",
       "    </tr>\n",
       "  </thead>\n",
       "  <tbody>\n",
       "    <tr>\n",
       "      <th>0</th>\n",
       "      <td>0</td>\n",
       "      <td>F9 v1.0  B0003</td>\n",
       "    </tr>\n",
       "    <tr>\n",
       "      <th>1</th>\n",
       "      <td>0</td>\n",
       "      <td>F9 v1.0  B0004</td>\n",
       "    </tr>\n",
       "    <tr>\n",
       "      <th>2</th>\n",
       "      <td>525</td>\n",
       "      <td>F9 v1.0  B0005</td>\n",
       "    </tr>\n",
       "    <tr>\n",
       "      <th>3</th>\n",
       "      <td>500</td>\n",
       "      <td>F9 v1.0  B0006</td>\n",
       "    </tr>\n",
       "    <tr>\n",
       "      <th>4</th>\n",
       "      <td>677</td>\n",
       "      <td>F9 v1.0  B0007</td>\n",
       "    </tr>\n",
       "    <tr>\n",
       "      <th>...</th>\n",
       "      <td>...</td>\n",
       "      <td>...</td>\n",
       "    </tr>\n",
       "    <tr>\n",
       "      <th>96</th>\n",
       "      <td>4311</td>\n",
       "      <td>F9 B5B1062.1</td>\n",
       "    </tr>\n",
       "    <tr>\n",
       "      <th>97</th>\n",
       "      <td>12500</td>\n",
       "      <td>F9 B5B1061.1</td>\n",
       "    </tr>\n",
       "    <tr>\n",
       "      <th>98</th>\n",
       "      <td>1192</td>\n",
       "      <td>F9 B5B1063.1</td>\n",
       "    </tr>\n",
       "    <tr>\n",
       "      <th>99</th>\n",
       "      <td>15600</td>\n",
       "      <td>F9 B5 B1049.7</td>\n",
       "    </tr>\n",
       "    <tr>\n",
       "      <th>100</th>\n",
       "      <td>2972</td>\n",
       "      <td>F9 B5 B1058.4</td>\n",
       "    </tr>\n",
       "  </tbody>\n",
       "</table>\n",
       "<p>101 rows × 2 columns</p>\n",
       "</div>"
      ],
      "text/plain": [
       "     PAYLOAD_MASS__KG_ Booster_Version\n",
       "0                    0  F9 v1.0  B0003\n",
       "1                    0  F9 v1.0  B0004\n",
       "2                  525  F9 v1.0  B0005\n",
       "3                  500  F9 v1.0  B0006\n",
       "4                  677  F9 v1.0  B0007\n",
       "..                 ...             ...\n",
       "96                4311    F9 B5B1062.1\n",
       "97               12500   F9 B5B1061.1 \n",
       "98                1192    F9 B5B1063.1\n",
       "99               15600  F9 B5 B1049.7 \n",
       "100               2972  F9 B5 B1058.4 \n",
       "\n",
       "[101 rows x 2 columns]"
      ]
     },
     "execution_count": 12,
     "metadata": {},
     "output_type": "execute_result"
    }
   ],
   "source": [
    "df_Mass=df[['PAYLOAD_MASS__KG_', 'Booster_Version']]\n",
    "df_Mass"
   ]
  },
  {
   "cell_type": "markdown",
   "id": "b53e0e93",
   "metadata": {},
   "source": [
    "# Task 4\n",
    "Display average payload mass carried by booster version F9 v1.1"
   ]
  },
  {
   "cell_type": "code",
   "execution_count": 14,
   "id": "9466cc71",
   "metadata": {},
   "outputs": [
    {
     "name": "stdout",
     "output_type": "stream",
     "text": [
      "{'F9 v1.0  B0006', 'F9 FT B1019', 'F9 B5 B1046.4', 'F9 FT B1035.1', 'F9 FT  B1021.2', 'F9 FT B1032.1', 'F9 FT  B1036.2', 'F9 B4 B1041.1', 'F9 v1.1 B1018', 'F9 B5 B1058.3 ', 'F9 B5 B1049.4', 'F9 FT B1031.1', 'F9 B4 B1040.1', 'F9 B5 B1051.2 ', 'F9 B5 B1059.3', 'F9 FT B1036.1', 'F9 v1.1  B1003', 'F9 v1.0  B0007', 'F9 B5  B1046.1', 'F9 v1.1 B1014', 'F9 B5 B1048.3', 'F9 FT B1026', 'F9 v1.0  B0003', 'F9 B5 B1048.2', 'F9 B5 B1051.5', 'F9 v1.1 B1017', 'F9 B5 B1049.6', 'F9 v1.0  B0004', 'F9 B4  B1039.2', 'F9 FT B1038.1', 'F9 B5B1048.1', 'F9 B5B1050', 'F9 B4 B1045.1', 'F9 v1.1 B1016', 'F9 B5 B1049.7 ', 'F9 B5 B1051.6', 'F9 v1.1 B1013', 'F9 v1.1 B1012', 'F9 FT B1034', 'F9 FT B1024', 'F9 B5 B1060.2 ', 'F9 B5B1059.1', 'F9 B4 B1039.1', 'F9 B5 B1060.3', 'F9 v1.1 B1015', 'F9 B5 B1047.3 ', 'F9 B5 B1056.4', 'F9 B5 B1047.2', 'F9 B5B1047.1', 'F9 B5B1049.1', 'F9 B5B1061.1 ', 'F9 FT  B1031.2', 'F9 B4  B1040.2', 'F9 FT  B1035.2', 'F9 FT B1025.1', 'F9 FT B1029.1', 'F9 B5B1063.1', 'F9 FT  B1032.2', 'F9 v1.0  B0005', 'F9 FT B1037', 'F9 B5 B1058.4 ', 'F9 B5 B1059.2', 'F9 B5 B1048.4', 'F9 B5 B1058.2 ', 'F9 v1.1 B1011', 'F9 FT B1021.1', 'F9 B4 B1042.1', 'F9 B5B1058.1 ', 'F9 FT  B1038.2', 'F9 B5 B1051.4', 'F9 B5B1060.1', 'F9 B5 B1049.5', 'F9 FT B1022', 'F9 B5 B1046.3', 'F9 FT  B1029.2', 'F9 B5B1062.1', 'F9 B4 B1044', 'F9 B4  B1041.2', 'F9 B5 B1049.2', 'F9 B5 B1046.2', 'F9 B4 B1043.1', 'F9 v1.1', 'F9 FT B1020', 'F9 B5B1054', 'F9 B5 B1049.3', 'F9 B5 B1059.4', 'F9 B4  B1043.2', 'F9 FT B1023.1', 'F9 B5 B1051.3', 'F9 B5 B1048.5', 'F9 FT B1030', 'F9 B5B1056.1 ', 'F9 B4 B1045.2', 'F9 B5 B1056.2 ', 'F9 B5B1051.1', 'F9 B5 B1056.3 ', 'F9 v1.1 B1010'}\n"
     ]
    }
   ],
   "source": [
    "print(set(df_Mass['Booster_Version']))\n"
   ]
  },
  {
   "cell_type": "code",
   "execution_count": 15,
   "id": "1b0c807c",
   "metadata": {},
   "outputs": [],
   "source": [
    "df_F9= df_Mass[df_Mass['Booster_Version'].str.contains(\"F9 v1.1\")]\n"
   ]
  },
  {
   "cell_type": "code",
   "execution_count": 16,
   "id": "692fc01f",
   "metadata": {},
   "outputs": [
    {
     "data": {
      "text/plain": [
       "2534.6666666666665"
      ]
     },
     "execution_count": 16,
     "metadata": {},
     "output_type": "execute_result"
    }
   ],
   "source": [
    "df_F9['PAYLOAD_MASS__KG_'].mean()\n"
   ]
  },
  {
   "cell_type": "code",
   "execution_count": 17,
   "id": "31ac7d08",
   "metadata": {},
   "outputs": [
    {
     "data": {
      "text/html": [
       "<div>\n",
       "<style scoped>\n",
       "    .dataframe tbody tr th:only-of-type {\n",
       "        vertical-align: middle;\n",
       "    }\n",
       "\n",
       "    .dataframe tbody tr th {\n",
       "        vertical-align: top;\n",
       "    }\n",
       "\n",
       "    .dataframe thead th {\n",
       "        text-align: right;\n",
       "    }\n",
       "</style>\n",
       "<table border=\"1\" class=\"dataframe\">\n",
       "  <thead>\n",
       "    <tr style=\"text-align: right;\">\n",
       "      <th></th>\n",
       "      <th>PAYLOAD_MASS__KG_</th>\n",
       "      <th>Booster_Version</th>\n",
       "    </tr>\n",
       "  </thead>\n",
       "  <tbody>\n",
       "    <tr>\n",
       "      <th>5</th>\n",
       "      <td>500</td>\n",
       "      <td>F9 v1.1  B1003</td>\n",
       "    </tr>\n",
       "    <tr>\n",
       "      <th>6</th>\n",
       "      <td>3170</td>\n",
       "      <td>F9 v1.1</td>\n",
       "    </tr>\n",
       "    <tr>\n",
       "      <th>7</th>\n",
       "      <td>3325</td>\n",
       "      <td>F9 v1.1</td>\n",
       "    </tr>\n",
       "    <tr>\n",
       "      <th>8</th>\n",
       "      <td>2296</td>\n",
       "      <td>F9 v1.1</td>\n",
       "    </tr>\n",
       "    <tr>\n",
       "      <th>9</th>\n",
       "      <td>1316</td>\n",
       "      <td>F9 v1.1</td>\n",
       "    </tr>\n",
       "    <tr>\n",
       "      <th>10</th>\n",
       "      <td>4535</td>\n",
       "      <td>F9 v1.1</td>\n",
       "    </tr>\n",
       "    <tr>\n",
       "      <th>11</th>\n",
       "      <td>4428</td>\n",
       "      <td>F9 v1.1 B1011</td>\n",
       "    </tr>\n",
       "    <tr>\n",
       "      <th>12</th>\n",
       "      <td>2216</td>\n",
       "      <td>F9 v1.1 B1010</td>\n",
       "    </tr>\n",
       "    <tr>\n",
       "      <th>13</th>\n",
       "      <td>2395</td>\n",
       "      <td>F9 v1.1 B1012</td>\n",
       "    </tr>\n",
       "    <tr>\n",
       "      <th>14</th>\n",
       "      <td>570</td>\n",
       "      <td>F9 v1.1 B1013</td>\n",
       "    </tr>\n",
       "    <tr>\n",
       "      <th>15</th>\n",
       "      <td>4159</td>\n",
       "      <td>F9 v1.1 B1014</td>\n",
       "    </tr>\n",
       "    <tr>\n",
       "      <th>16</th>\n",
       "      <td>1898</td>\n",
       "      <td>F9 v1.1 B1015</td>\n",
       "    </tr>\n",
       "    <tr>\n",
       "      <th>17</th>\n",
       "      <td>4707</td>\n",
       "      <td>F9 v1.1 B1016</td>\n",
       "    </tr>\n",
       "    <tr>\n",
       "      <th>18</th>\n",
       "      <td>1952</td>\n",
       "      <td>F9 v1.1 B1018</td>\n",
       "    </tr>\n",
       "    <tr>\n",
       "      <th>20</th>\n",
       "      <td>553</td>\n",
       "      <td>F9 v1.1 B1017</td>\n",
       "    </tr>\n",
       "  </tbody>\n",
       "</table>\n",
       "</div>"
      ],
      "text/plain": [
       "    PAYLOAD_MASS__KG_ Booster_Version\n",
       "5                 500  F9 v1.1  B1003\n",
       "6                3170         F9 v1.1\n",
       "7                3325         F9 v1.1\n",
       "8                2296         F9 v1.1\n",
       "9                1316         F9 v1.1\n",
       "10               4535         F9 v1.1\n",
       "11               4428   F9 v1.1 B1011\n",
       "12               2216   F9 v1.1 B1010\n",
       "13               2395   F9 v1.1 B1012\n",
       "14                570   F9 v1.1 B1013\n",
       "15               4159   F9 v1.1 B1014\n",
       "16               1898   F9 v1.1 B1015\n",
       "17               4707   F9 v1.1 B1016\n",
       "18               1952   F9 v1.1 B1018\n",
       "20                553   F9 v1.1 B1017"
      ]
     },
     "execution_count": 17,
     "metadata": {},
     "output_type": "execute_result"
    }
   ],
   "source": [
    "df_F9"
   ]
  },
  {
   "cell_type": "markdown",
   "id": "1d8f2af0",
   "metadata": {},
   "source": [
    "# Task 5\n",
    "List the date when the first succesful landing outcome in ground pad was acheived.\n",
    "\n",
    "Hint:Use min function"
   ]
  },
  {
   "cell_type": "code",
   "execution_count": 18,
   "id": "7a5848b2",
   "metadata": {},
   "outputs": [],
   "source": [
    "df_Date=df[['Date', 'Landing _Outcome']]\n"
   ]
  },
  {
   "cell_type": "code",
   "execution_count": 19,
   "id": "adaaa8cd",
   "metadata": {},
   "outputs": [
    {
     "data": {
      "text/html": [
       "<div>\n",
       "<style scoped>\n",
       "    .dataframe tbody tr th:only-of-type {\n",
       "        vertical-align: middle;\n",
       "    }\n",
       "\n",
       "    .dataframe tbody tr th {\n",
       "        vertical-align: top;\n",
       "    }\n",
       "\n",
       "    .dataframe thead th {\n",
       "        text-align: right;\n",
       "    }\n",
       "</style>\n",
       "<table border=\"1\" class=\"dataframe\">\n",
       "  <thead>\n",
       "    <tr style=\"text-align: right;\">\n",
       "      <th></th>\n",
       "      <th>Date</th>\n",
       "      <th>Landing _Outcome</th>\n",
       "    </tr>\n",
       "  </thead>\n",
       "  <tbody>\n",
       "    <tr>\n",
       "      <th>0</th>\n",
       "      <td>04-06-2010</td>\n",
       "      <td>Failure (parachute)</td>\n",
       "    </tr>\n",
       "    <tr>\n",
       "      <th>1</th>\n",
       "      <td>08-12-2010</td>\n",
       "      <td>Failure (parachute)</td>\n",
       "    </tr>\n",
       "    <tr>\n",
       "      <th>2</th>\n",
       "      <td>22-05-2012</td>\n",
       "      <td>No attempt</td>\n",
       "    </tr>\n",
       "    <tr>\n",
       "      <th>3</th>\n",
       "      <td>08-10-2012</td>\n",
       "      <td>No attempt</td>\n",
       "    </tr>\n",
       "    <tr>\n",
       "      <th>4</th>\n",
       "      <td>01-03-2013</td>\n",
       "      <td>No attempt</td>\n",
       "    </tr>\n",
       "    <tr>\n",
       "      <th>...</th>\n",
       "      <td>...</td>\n",
       "      <td>...</td>\n",
       "    </tr>\n",
       "    <tr>\n",
       "      <th>96</th>\n",
       "      <td>05-11-2020</td>\n",
       "      <td>Success</td>\n",
       "    </tr>\n",
       "    <tr>\n",
       "      <th>97</th>\n",
       "      <td>16-11-2020</td>\n",
       "      <td>Success</td>\n",
       "    </tr>\n",
       "    <tr>\n",
       "      <th>98</th>\n",
       "      <td>21-11-2020</td>\n",
       "      <td>Success</td>\n",
       "    </tr>\n",
       "    <tr>\n",
       "      <th>99</th>\n",
       "      <td>25-11-2020</td>\n",
       "      <td>Success</td>\n",
       "    </tr>\n",
       "    <tr>\n",
       "      <th>100</th>\n",
       "      <td>06-12-2020</td>\n",
       "      <td>Success</td>\n",
       "    </tr>\n",
       "  </tbody>\n",
       "</table>\n",
       "<p>101 rows × 2 columns</p>\n",
       "</div>"
      ],
      "text/plain": [
       "           Date     Landing _Outcome\n",
       "0    04-06-2010  Failure (parachute)\n",
       "1    08-12-2010  Failure (parachute)\n",
       "2    22-05-2012           No attempt\n",
       "3    08-10-2012           No attempt\n",
       "4    01-03-2013           No attempt\n",
       "..          ...                  ...\n",
       "96   05-11-2020              Success\n",
       "97   16-11-2020              Success\n",
       "98   21-11-2020              Success\n",
       "99   25-11-2020              Success\n",
       "100  06-12-2020              Success\n",
       "\n",
       "[101 rows x 2 columns]"
      ]
     },
     "execution_count": 19,
     "metadata": {},
     "output_type": "execute_result"
    }
   ],
   "source": [
    "df_Date"
   ]
  },
  {
   "cell_type": "code",
   "execution_count": 20,
   "id": "de367812",
   "metadata": {},
   "outputs": [
    {
     "data": {
      "text/plain": [
       "'01-03-2013'"
      ]
     },
     "execution_count": 20,
     "metadata": {},
     "output_type": "execute_result"
    }
   ],
   "source": [
    "df_Date['Date'].min()\n"
   ]
  },
  {
   "cell_type": "code",
   "execution_count": 21,
   "id": "99ba1a51",
   "metadata": {},
   "outputs": [],
   "source": [
    "df_success_land = df_Date[df_Date['Landing _Outcome']=='Success']\n"
   ]
  },
  {
   "cell_type": "code",
   "execution_count": 22,
   "id": "337fefbc",
   "metadata": {},
   "outputs": [
    {
     "name": "stderr",
     "output_type": "stream",
     "text": [
      "C:\\Users\\17032\\AppData\\Local\\Temp\\ipykernel_7132\\3999899639.py:1: SettingWithCopyWarning: \n",
      "A value is trying to be set on a copy of a slice from a DataFrame.\n",
      "Try using .loc[row_indexer,col_indexer] = value instead\n",
      "\n",
      "See the caveats in the documentation: https://pandas.pydata.org/pandas-docs/stable/user_guide/indexing.html#returning-a-view-versus-a-copy\n",
      "  df_success_land[\"Date\"] = df_success_land[\"Date\"].astype('datetime64[ns]')\n"
     ]
    }
   ],
   "source": [
    "df_success_land[\"Date\"] = df_success_land[\"Date\"].astype('datetime64[ns]')\n"
   ]
  },
  {
   "cell_type": "code",
   "execution_count": 23,
   "id": "0b5b3ca2",
   "metadata": {},
   "outputs": [],
   "source": [
    "df_date = df_success_land.sort_values(by='Date')\n"
   ]
  },
  {
   "cell_type": "code",
   "execution_count": 24,
   "id": "917ae941",
   "metadata": {},
   "outputs": [
    {
     "data": {
      "text/plain": [
       "Timestamp('2018-03-12 00:00:00')"
      ]
     },
     "execution_count": 24,
     "metadata": {},
     "output_type": "execute_result"
    }
   ],
   "source": [
    "df_date['Date'].min()\n"
   ]
  },
  {
   "cell_type": "markdown",
   "id": "f1f8358b",
   "metadata": {},
   "source": [
    "# Task 6\n",
    "List the names of the boosters which have success in drone ship and have payload mass greater than 4000 but less than 6000"
   ]
  },
  {
   "cell_type": "code",
   "execution_count": 25,
   "id": "57118dc4",
   "metadata": {},
   "outputs": [
    {
     "data": {
      "text/plain": [
       "{'Controlled (ocean)',\n",
       " 'Failure',\n",
       " 'Failure (drone ship)',\n",
       " 'Failure (parachute)',\n",
       " 'No attempt',\n",
       " 'No attempt ',\n",
       " 'Precluded (drone ship)',\n",
       " 'Success',\n",
       " 'Success (drone ship)',\n",
       " 'Success (ground pad)',\n",
       " 'Uncontrolled (ocean)'}"
      ]
     },
     "execution_count": 25,
     "metadata": {},
     "output_type": "execute_result"
    }
   ],
   "source": [
    "set(df['Landing _Outcome'])\n"
   ]
  },
  {
   "cell_type": "code",
   "execution_count": 26,
   "id": "6fc8cd8c",
   "metadata": {},
   "outputs": [
    {
     "data": {
      "text/html": [
       "<div>\n",
       "<style scoped>\n",
       "    .dataframe tbody tr th:only-of-type {\n",
       "        vertical-align: middle;\n",
       "    }\n",
       "\n",
       "    .dataframe tbody tr th {\n",
       "        vertical-align: top;\n",
       "    }\n",
       "\n",
       "    .dataframe thead th {\n",
       "        text-align: right;\n",
       "    }\n",
       "</style>\n",
       "<table border=\"1\" class=\"dataframe\">\n",
       "  <thead>\n",
       "    <tr style=\"text-align: right;\">\n",
       "      <th></th>\n",
       "      <th>Landing _Outcome</th>\n",
       "      <th>Booster_Version</th>\n",
       "      <th>PAYLOAD_MASS__KG_</th>\n",
       "    </tr>\n",
       "  </thead>\n",
       "  <tbody>\n",
       "    <tr>\n",
       "      <th>0</th>\n",
       "      <td>Failure (parachute)</td>\n",
       "      <td>F9 v1.0  B0003</td>\n",
       "      <td>0</td>\n",
       "    </tr>\n",
       "    <tr>\n",
       "      <th>1</th>\n",
       "      <td>Failure (parachute)</td>\n",
       "      <td>F9 v1.0  B0004</td>\n",
       "      <td>0</td>\n",
       "    </tr>\n",
       "    <tr>\n",
       "      <th>2</th>\n",
       "      <td>No attempt</td>\n",
       "      <td>F9 v1.0  B0005</td>\n",
       "      <td>525</td>\n",
       "    </tr>\n",
       "    <tr>\n",
       "      <th>3</th>\n",
       "      <td>No attempt</td>\n",
       "      <td>F9 v1.0  B0006</td>\n",
       "      <td>500</td>\n",
       "    </tr>\n",
       "    <tr>\n",
       "      <th>4</th>\n",
       "      <td>No attempt</td>\n",
       "      <td>F9 v1.0  B0007</td>\n",
       "      <td>677</td>\n",
       "    </tr>\n",
       "    <tr>\n",
       "      <th>...</th>\n",
       "      <td>...</td>\n",
       "      <td>...</td>\n",
       "      <td>...</td>\n",
       "    </tr>\n",
       "    <tr>\n",
       "      <th>96</th>\n",
       "      <td>Success</td>\n",
       "      <td>F9 B5B1062.1</td>\n",
       "      <td>4311</td>\n",
       "    </tr>\n",
       "    <tr>\n",
       "      <th>97</th>\n",
       "      <td>Success</td>\n",
       "      <td>F9 B5B1061.1</td>\n",
       "      <td>12500</td>\n",
       "    </tr>\n",
       "    <tr>\n",
       "      <th>98</th>\n",
       "      <td>Success</td>\n",
       "      <td>F9 B5B1063.1</td>\n",
       "      <td>1192</td>\n",
       "    </tr>\n",
       "    <tr>\n",
       "      <th>99</th>\n",
       "      <td>Success</td>\n",
       "      <td>F9 B5 B1049.7</td>\n",
       "      <td>15600</td>\n",
       "    </tr>\n",
       "    <tr>\n",
       "      <th>100</th>\n",
       "      <td>Success</td>\n",
       "      <td>F9 B5 B1058.4</td>\n",
       "      <td>2972</td>\n",
       "    </tr>\n",
       "  </tbody>\n",
       "</table>\n",
       "<p>101 rows × 3 columns</p>\n",
       "</div>"
      ],
      "text/plain": [
       "        Landing _Outcome Booster_Version  PAYLOAD_MASS__KG_\n",
       "0    Failure (parachute)  F9 v1.0  B0003                  0\n",
       "1    Failure (parachute)  F9 v1.0  B0004                  0\n",
       "2             No attempt  F9 v1.0  B0005                525\n",
       "3             No attempt  F9 v1.0  B0006                500\n",
       "4             No attempt  F9 v1.0  B0007                677\n",
       "..                   ...             ...                ...\n",
       "96               Success    F9 B5B1062.1               4311\n",
       "97               Success   F9 B5B1061.1               12500\n",
       "98               Success    F9 B5B1063.1               1192\n",
       "99               Success  F9 B5 B1049.7               15600\n",
       "100              Success  F9 B5 B1058.4                2972\n",
       "\n",
       "[101 rows x 3 columns]"
      ]
     },
     "execution_count": 26,
     "metadata": {},
     "output_type": "execute_result"
    }
   ],
   "source": [
    "df_booster = df[['Landing _Outcome','Booster_Version', 'PAYLOAD_MASS__KG_']]\n",
    "df_booster"
   ]
  },
  {
   "cell_type": "code",
   "execution_count": 27,
   "id": "8707703d",
   "metadata": {},
   "outputs": [],
   "source": [
    "df_boost= df.loc[(df['PAYLOAD_MASS__KG_'] > 4000) & (df['PAYLOAD_MASS__KG_'] < 6000) & (df['Landing _Outcome']=='Success (drone ship)')]\n"
   ]
  },
  {
   "cell_type": "code",
   "execution_count": 28,
   "id": "fe27d7be",
   "metadata": {},
   "outputs": [
    {
     "data": {
      "text/plain": [
       "{'F9 FT  B1021.2', 'F9 FT  B1031.2', 'F9 FT B1022', 'F9 FT B1026'}"
      ]
     },
     "execution_count": 28,
     "metadata": {},
     "output_type": "execute_result"
    }
   ],
   "source": [
    "set(df_boost['Booster_Version'])\n"
   ]
  },
  {
   "cell_type": "markdown",
   "id": "c92247b5",
   "metadata": {},
   "source": [
    "# Task 7\n",
    "List the total number of successful and failure mission outcomes"
   ]
  },
  {
   "cell_type": "code",
   "execution_count": 29,
   "id": "c9d6f7b9",
   "metadata": {},
   "outputs": [
    {
     "data": {
      "text/plain": [
       "{'Failure (in flight)',\n",
       " 'Success',\n",
       " 'Success ',\n",
       " 'Success (payload status unclear)'}"
      ]
     },
     "execution_count": 29,
     "metadata": {},
     "output_type": "execute_result"
    }
   ],
   "source": [
    "set(df['Mission_Outcome'])\n"
   ]
  },
  {
   "cell_type": "code",
   "execution_count": 30,
   "id": "7c944890",
   "metadata": {},
   "outputs": [
    {
     "data": {
      "text/plain": [
       "Success                             98\n",
       "Failure (in flight)                  1\n",
       "Success (payload status unclear)     1\n",
       "Success                              1\n",
       "Name: Mission_Outcome, dtype: int64"
      ]
     },
     "execution_count": 30,
     "metadata": {},
     "output_type": "execute_result"
    }
   ],
   "source": [
    "df['Mission_Outcome'].value_counts()\n"
   ]
  },
  {
   "cell_type": "markdown",
   "id": "caae6e20",
   "metadata": {},
   "source": [
    "# Task 8\n",
    "List the names of the booster_versions which have carried the maximum payload mass. Use a subquery"
   ]
  },
  {
   "cell_type": "code",
   "execution_count": 31,
   "id": "8e9a8eb1",
   "metadata": {},
   "outputs": [],
   "source": [
    "max_payloadmass= df['PAYLOAD_MASS__KG_'].max()\n"
   ]
  },
  {
   "cell_type": "code",
   "execution_count": 32,
   "id": "35792ebe",
   "metadata": {},
   "outputs": [
    {
     "data": {
      "text/plain": [
       "15600"
      ]
     },
     "execution_count": 32,
     "metadata": {},
     "output_type": "execute_result"
    }
   ],
   "source": [
    "max_payloadmass\n"
   ]
  },
  {
   "cell_type": "code",
   "execution_count": 33,
   "id": "66fb8623",
   "metadata": {},
   "outputs": [],
   "source": [
    "df_boost_maxmass= df[df['PAYLOAD_MASS__KG_']==max_payloadmass]\n"
   ]
  },
  {
   "cell_type": "code",
   "execution_count": 34,
   "id": "06be0c12",
   "metadata": {},
   "outputs": [
    {
     "name": "stdout",
     "output_type": "stream",
     "text": [
      "{'F9 B5 B1060.2 ', 'F9 B5 B1051.6', 'F9 B5 B1051.3', 'F9 B5 B1048.4', 'F9 B5 B1051.4', 'F9 B5 B1058.3 ', 'F9 B5 B1060.3', 'F9 B5 B1048.5', 'F9 B5 B1056.4', 'F9 B5 B1049.4', 'F9 B5 B1049.5', 'F9 B5 B1049.7 '}\n"
     ]
    }
   ],
   "source": [
    "print(set(df_boost_maxmass['Booster_Version']))\n"
   ]
  },
  {
   "cell_type": "code",
   "execution_count": 35,
   "id": "8bb08dff",
   "metadata": {},
   "outputs": [],
   "source": [
    "import datetime\n"
   ]
  },
  {
   "cell_type": "code",
   "execution_count": 37,
   "id": "47f031d6",
   "metadata": {},
   "outputs": [],
   "source": [
    "df_9=df[['Date', 'Landing _Outcome','Booster_Version','Launch_Site']]\n"
   ]
  },
  {
   "cell_type": "code",
   "execution_count": 38,
   "id": "8bd08fc2",
   "metadata": {},
   "outputs": [
    {
     "data": {
      "text/html": [
       "<div>\n",
       "<style scoped>\n",
       "    .dataframe tbody tr th:only-of-type {\n",
       "        vertical-align: middle;\n",
       "    }\n",
       "\n",
       "    .dataframe tbody tr th {\n",
       "        vertical-align: top;\n",
       "    }\n",
       "\n",
       "    .dataframe thead th {\n",
       "        text-align: right;\n",
       "    }\n",
       "</style>\n",
       "<table border=\"1\" class=\"dataframe\">\n",
       "  <thead>\n",
       "    <tr style=\"text-align: right;\">\n",
       "      <th></th>\n",
       "      <th>Date</th>\n",
       "      <th>Landing _Outcome</th>\n",
       "      <th>Booster_Version</th>\n",
       "      <th>Launch_Site</th>\n",
       "    </tr>\n",
       "  </thead>\n",
       "  <tbody>\n",
       "    <tr>\n",
       "      <th>0</th>\n",
       "      <td>04-06-2010</td>\n",
       "      <td>Failure (parachute)</td>\n",
       "      <td>F9 v1.0  B0003</td>\n",
       "      <td>CCAFS LC-40</td>\n",
       "    </tr>\n",
       "    <tr>\n",
       "      <th>1</th>\n",
       "      <td>08-12-2010</td>\n",
       "      <td>Failure (parachute)</td>\n",
       "      <td>F9 v1.0  B0004</td>\n",
       "      <td>CCAFS LC-40</td>\n",
       "    </tr>\n",
       "    <tr>\n",
       "      <th>2</th>\n",
       "      <td>22-05-2012</td>\n",
       "      <td>No attempt</td>\n",
       "      <td>F9 v1.0  B0005</td>\n",
       "      <td>CCAFS LC-40</td>\n",
       "    </tr>\n",
       "    <tr>\n",
       "      <th>3</th>\n",
       "      <td>08-10-2012</td>\n",
       "      <td>No attempt</td>\n",
       "      <td>F9 v1.0  B0006</td>\n",
       "      <td>CCAFS LC-40</td>\n",
       "    </tr>\n",
       "    <tr>\n",
       "      <th>4</th>\n",
       "      <td>01-03-2013</td>\n",
       "      <td>No attempt</td>\n",
       "      <td>F9 v1.0  B0007</td>\n",
       "      <td>CCAFS LC-40</td>\n",
       "    </tr>\n",
       "    <tr>\n",
       "      <th>...</th>\n",
       "      <td>...</td>\n",
       "      <td>...</td>\n",
       "      <td>...</td>\n",
       "      <td>...</td>\n",
       "    </tr>\n",
       "    <tr>\n",
       "      <th>96</th>\n",
       "      <td>05-11-2020</td>\n",
       "      <td>Success</td>\n",
       "      <td>F9 B5B1062.1</td>\n",
       "      <td>CCAFS SLC-40</td>\n",
       "    </tr>\n",
       "    <tr>\n",
       "      <th>97</th>\n",
       "      <td>16-11-2020</td>\n",
       "      <td>Success</td>\n",
       "      <td>F9 B5B1061.1</td>\n",
       "      <td>KSC LC-39A</td>\n",
       "    </tr>\n",
       "    <tr>\n",
       "      <th>98</th>\n",
       "      <td>21-11-2020</td>\n",
       "      <td>Success</td>\n",
       "      <td>F9 B5B1063.1</td>\n",
       "      <td>VAFB SLC-4E</td>\n",
       "    </tr>\n",
       "    <tr>\n",
       "      <th>99</th>\n",
       "      <td>25-11-2020</td>\n",
       "      <td>Success</td>\n",
       "      <td>F9 B5 B1049.7</td>\n",
       "      <td>CCAFS SLC-40</td>\n",
       "    </tr>\n",
       "    <tr>\n",
       "      <th>100</th>\n",
       "      <td>06-12-2020</td>\n",
       "      <td>Success</td>\n",
       "      <td>F9 B5 B1058.4</td>\n",
       "      <td>KSC LC-39A</td>\n",
       "    </tr>\n",
       "  </tbody>\n",
       "</table>\n",
       "<p>101 rows × 4 columns</p>\n",
       "</div>"
      ],
      "text/plain": [
       "           Date     Landing _Outcome Booster_Version   Launch_Site\n",
       "0    04-06-2010  Failure (parachute)  F9 v1.0  B0003   CCAFS LC-40\n",
       "1    08-12-2010  Failure (parachute)  F9 v1.0  B0004   CCAFS LC-40\n",
       "2    22-05-2012           No attempt  F9 v1.0  B0005   CCAFS LC-40\n",
       "3    08-10-2012           No attempt  F9 v1.0  B0006   CCAFS LC-40\n",
       "4    01-03-2013           No attempt  F9 v1.0  B0007   CCAFS LC-40\n",
       "..          ...                  ...             ...           ...\n",
       "96   05-11-2020              Success    F9 B5B1062.1  CCAFS SLC-40\n",
       "97   16-11-2020              Success   F9 B5B1061.1     KSC LC-39A\n",
       "98   21-11-2020              Success    F9 B5B1063.1   VAFB SLC-4E\n",
       "99   25-11-2020              Success  F9 B5 B1049.7   CCAFS SLC-40\n",
       "100  06-12-2020              Success  F9 B5 B1058.4     KSC LC-39A\n",
       "\n",
       "[101 rows x 4 columns]"
      ]
     },
     "execution_count": 38,
     "metadata": {},
     "output_type": "execute_result"
    }
   ],
   "source": [
    "df_9\n"
   ]
  },
  {
   "cell_type": "code",
   "execution_count": 39,
   "id": "4b3cf795",
   "metadata": {},
   "outputs": [
    {
     "name": "stderr",
     "output_type": "stream",
     "text": [
      "C:\\Users\\17032\\AppData\\Local\\Temp\\ipykernel_7132\\2936909884.py:1: SettingWithCopyWarning: \n",
      "A value is trying to be set on a copy of a slice from a DataFrame.\n",
      "Try using .loc[row_indexer,col_indexer] = value instead\n",
      "\n",
      "See the caveats in the documentation: https://pandas.pydata.org/pandas-docs/stable/user_guide/indexing.html#returning-a-view-versus-a-copy\n",
      "  df_9['Date'] = pd.to_datetime(df_9['Date'], format='%d-%m-%Y')\n"
     ]
    }
   ],
   "source": [
    "df_9['Date'] = pd.to_datetime(df_9['Date'], format='%d-%m-%Y')\n"
   ]
  },
  {
   "cell_type": "code",
   "execution_count": 40,
   "id": "0c242cbf",
   "metadata": {},
   "outputs": [],
   "source": [
    "df_2015=df_9[df_9['Date'].dt.strftime('%Y')=='2015']\n"
   ]
  },
  {
   "cell_type": "code",
   "execution_count": 41,
   "id": "efbd9311",
   "metadata": {},
   "outputs": [],
   "source": [
    "df_month_name= df_2015[df_2015['Landing _Outcome']=='Failure (drone ship)']\n"
   ]
  },
  {
   "cell_type": "code",
   "execution_count": 42,
   "id": "cea91e21",
   "metadata": {},
   "outputs": [
    {
     "data": {
      "text/html": [
       "<div>\n",
       "<style scoped>\n",
       "    .dataframe tbody tr th:only-of-type {\n",
       "        vertical-align: middle;\n",
       "    }\n",
       "\n",
       "    .dataframe tbody tr th {\n",
       "        vertical-align: top;\n",
       "    }\n",
       "\n",
       "    .dataframe thead th {\n",
       "        text-align: right;\n",
       "    }\n",
       "</style>\n",
       "<table border=\"1\" class=\"dataframe\">\n",
       "  <thead>\n",
       "    <tr style=\"text-align: right;\">\n",
       "      <th></th>\n",
       "      <th>Date</th>\n",
       "      <th>Landing _Outcome</th>\n",
       "      <th>Booster_Version</th>\n",
       "      <th>Launch_Site</th>\n",
       "    </tr>\n",
       "  </thead>\n",
       "  <tbody>\n",
       "    <tr>\n",
       "      <th>13</th>\n",
       "      <td>2015-01-10</td>\n",
       "      <td>Failure (drone ship)</td>\n",
       "      <td>F9 v1.1 B1012</td>\n",
       "      <td>CCAFS LC-40</td>\n",
       "    </tr>\n",
       "    <tr>\n",
       "      <th>16</th>\n",
       "      <td>2015-04-14</td>\n",
       "      <td>Failure (drone ship)</td>\n",
       "      <td>F9 v1.1 B1015</td>\n",
       "      <td>CCAFS LC-40</td>\n",
       "    </tr>\n",
       "  </tbody>\n",
       "</table>\n",
       "</div>"
      ],
      "text/plain": [
       "         Date      Landing _Outcome Booster_Version  Launch_Site\n",
       "13 2015-01-10  Failure (drone ship)   F9 v1.1 B1012  CCAFS LC-40\n",
       "16 2015-04-14  Failure (drone ship)   F9 v1.1 B1015  CCAFS LC-40"
      ]
     },
     "execution_count": 42,
     "metadata": {},
     "output_type": "execute_result"
    }
   ],
   "source": [
    "df_month_name"
   ]
  },
  {
   "cell_type": "markdown",
   "id": "50558896",
   "metadata": {},
   "source": [
    "# Task 10\n",
    "Rank the count of successful landing_outcomes between the date 04-06-2010 and 20-03-2017 in descending order."
   ]
  },
  {
   "cell_type": "code",
   "execution_count": 43,
   "id": "ff47a3d0",
   "metadata": {},
   "outputs": [],
   "source": [
    "df_success_outcome= df.loc[(df['Landing _Outcome']=='Success') & (df['Date']>'04-06-2010') & (df['Date']<'20-03-2017')]\n"
   ]
  },
  {
   "cell_type": "code",
   "execution_count": 44,
   "id": "179918b5",
   "metadata": {},
   "outputs": [
    {
     "data": {
      "text/plain": [
       "20"
      ]
     },
     "execution_count": 44,
     "metadata": {},
     "output_type": "execute_result"
    }
   ],
   "source": [
    "df_success_outcome['Landing _Outcome'].count()\n"
   ]
  },
  {
   "cell_type": "code",
   "execution_count": 46,
   "id": "967c50ba",
   "metadata": {},
   "outputs": [
    {
     "data": {
      "text/plain": [
       "20"
      ]
     },
     "execution_count": 46,
     "metadata": {},
     "output_type": "execute_result"
    }
   ],
   "source": [
    "len(df_success_outcome['Landing _Outcome'])\n"
   ]
  },
  {
   "cell_type": "markdown",
   "id": "ea8d7d46",
   "metadata": {},
   "source": [
    "# Reference Links\n",
    "\n",
    "https://cf-courses-data.s3.us.cloud-object-storage.appdomain.cloud/IBMDeveloperSkillsNetwork-DB0201EN-SkillsNetwork/labs/Labs_Coursera_V5/labs/Lab%20-%20String%20Patterns%20-%20Sorting%20-%20Grouping/instructional-labs.md.html?utm_medium=Exinfluencer&utm_source=Exinfluencer&utm_content=000026UJ&utm_term=10006555&utm_id=NA-SkillsNetwork-Channel-SkillsNetworkCoursesIBMDS0321ENSkillsNetwork26802033-2022-01-01&origin=www.coursera.org\n",
    "\n",
    "https://cf-courses-data.s3.us.cloud-object-storage.appdomain.cloud/IBMDeveloperSkillsNetwork-DB0201EN-SkillsNetwork/labs/Labs_Coursera_V5/labs/Lab%20-%20Built-in%20functions%20/Hands-on_Lab__Built-in_Functions.md.html?utm_medium=Exinfluencer&utm_source=Exinfluencer&utm_content=000026UJ&utm_term=10006555&utm_id=NA-SkillsNetwork-Channel-SkillsNetworkCoursesIBMDS0321ENSkillsNetwork26802033-2022-01-01&origin=www.coursera.org\n",
    "\n",
    "\n",
    "https://cf-courses-data.s3.us.cloud-object-storage.appdomain.cloud/IBMDeveloperSkillsNetwork-DB0201EN-SkillsNetwork/labs/Labs_Coursera_V5/labs/Lab%20-%20Sub-queries%20and%20Nested%20SELECTs%20/instructional-labs.md.html?utm_medium=Exinfluencer&utm_source=Exinfluencer&utm_content=000026UJ&utm_term=10006555&utm_id=NA-SkillsNetwork-Channel-SkillsNetworkCoursesIBMDS0321ENSkillsNetwork26802033-2022-01-01&origin=www.coursera.org\n",
    "\n",
    "https://cf-courses-data.s3.us.cloud-object-storage.appdomain.cloud/IBMDeveloperSkillsNetwork-DB0201EN-SkillsNetwork/labs/Module%205/DB0201EN-Week3-1-3-SQLmagic.ipynb?utm_medium=Exinfluencer&utm_source=Exinfluencer&utm_content=000026UJ&utm_term=10006555&utm_id=NA-SkillsNetwork-Channel-SkillsNetworkCoursesIBMDS0321ENSkillsNetwork26802033-2022-01-01\n",
    "\n",
    "https://cf-courses-data.s3.us.cloud-object-storage.appdomain.cloud/IBMDeveloperSkillsNetwork-DB0201EN-SkillsNetwork/labs/Module%205/DB0201EN-Week3-1-4-Analyzing.ipynb?utm_medium=Exinfluencer&utm_source=Exinfluencer&utm_content=000026UJ&utm_term=10006555&utm_id=NA-SkillsNetwork-Channel-SkillsNetworkCoursesIBMDS0321ENSkillsNetwork26802033-2022-01-01"
   ]
  },
  {
   "cell_type": "code",
   "execution_count": null,
   "id": "ded8ea4d",
   "metadata": {},
   "outputs": [],
   "source": []
  }
 ],
 "metadata": {
  "kernelspec": {
   "display_name": "Python 3 (ipykernel)",
   "language": "python",
   "name": "python3"
  },
  "language_info": {
   "codemirror_mode": {
    "name": "ipython",
    "version": 3
   },
   "file_extension": ".py",
   "mimetype": "text/x-python",
   "name": "python",
   "nbconvert_exporter": "python",
   "pygments_lexer": "ipython3",
   "version": "3.9.12"
  }
 },
 "nbformat": 4,
 "nbformat_minor": 5
}
