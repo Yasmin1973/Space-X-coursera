{
 "cells": [
  {
   "cell_type": "markdown",
   "id": "929cb0e4",
   "metadata": {},
   "source": [
    "# Launch Sites Locations Analysis with Folium\n",
    "The launch success rate may depend on many factors such as payload mass, orbit type, and so on. It may also depend on the location and proximities of a launch site, i.e., the initial position of rocket trajectories. Finding an optimal location for building a launch site certainly involves many factors and hopefully we could discover some of the factors by analyzing the existing launch site locations.\n",
    "\n",
    "In the previous exploratory data analysis labs, you have visualized the SpaceX launch dataset using matplotlib and seaborn and discovered some preliminary correlations between the launch site and success rates. In this lab, you will be performing more interactive visual analytics using Folium.\n",
    "\n",
    "# Objectives\n",
    "This lab contains the following tasks:\n",
    "\n",
    "# .TASK 1: Mark all launch sites on a map\n",
    "# .TASK 2: Mark the success/failed launches for each site on the map\n",
    "# .TASK 3: Calculate the distances between a launch site to its proximities\n",
    "After completed the above tasks, you should be able to find some geographical patterns about launch sites.\n",
    "\n",
    "Let's first import required Python packages for this lab:"
   ]
  },
  {
   "cell_type": "code",
   "execution_count": 1,
   "id": "a21ecc1a",
   "metadata": {},
   "outputs": [
    {
     "name": "stdout",
     "output_type": "stream",
     "text": [
      "Collecting folium\n",
      "  Downloading folium-0.14.0-py2.py3-none-any.whl (102 kB)\n",
      "Requirement already satisfied: numpy in c:\\users\\17032\\anaconda3\\lib\\site-packages (from folium) (1.21.5)\n",
      "Collecting branca>=0.6.0\n",
      "  Downloading branca-0.6.0-py3-none-any.whl (24 kB)\n",
      "Requirement already satisfied: jinja2>=2.9 in c:\\users\\17032\\anaconda3\\lib\\site-packages (from folium) (2.11.3)\n",
      "Requirement already satisfied: requests in c:\\users\\17032\\anaconda3\\lib\\site-packages (from folium) (2.27.1)\n",
      "Requirement already satisfied: MarkupSafe>=0.23 in c:\\users\\17032\\anaconda3\\lib\\site-packages (from jinja2>=2.9->folium) (2.0.1)\n",
      "Requirement already satisfied: charset-normalizer~=2.0.0 in c:\\users\\17032\\anaconda3\\lib\\site-packages (from requests->folium) (2.0.4)\n",
      "Requirement already satisfied: certifi>=2017.4.17 in c:\\users\\17032\\anaconda3\\lib\\site-packages (from requests->folium) (2021.10.8)\n",
      "Requirement already satisfied: urllib3<1.27,>=1.21.1 in c:\\users\\17032\\anaconda3\\lib\\site-packages (from requests->folium) (1.26.9)\n",
      "Requirement already satisfied: idna<4,>=2.5 in c:\\users\\17032\\anaconda3\\lib\\site-packages (from requests->folium) (3.3)\n",
      "Installing collected packages: branca, folium\n",
      "Successfully installed branca-0.6.0 folium-0.14.0\n"
     ]
    }
   ],
   "source": [
    "!pip install folium\n"
   ]
  },
  {
   "cell_type": "code",
   "execution_count": 2,
   "id": "fbabad38",
   "metadata": {},
   "outputs": [],
   "source": [
    "import folium\n",
    "import pandas as pd"
   ]
  },
  {
   "cell_type": "code",
   "execution_count": 3,
   "id": "84b2f5a7",
   "metadata": {},
   "outputs": [],
   "source": [
    "# Import folium MarkerCluster plugin\n",
    "from folium.plugins import MarkerCluster\n",
    "# Import folium MousePosition plugin\n",
    "from folium.plugins import MousePosition\n",
    "# Import folium DivIcon plugin\n",
    "from folium.features import DivIcon"
   ]
  },
  {
   "cell_type": "markdown",
   "id": "d5445242",
   "metadata": {},
   "source": [
    "If you need to refresh your memory about folium, you may download and refer to this previous folium lab:\n",
    "\n",
    "# Task 1: Mark all launch sites on a map\n",
    "First, let's try to add each site's location on a map using site's latitude and longitude coordinates\n",
    "\n",
    "The following dataset with the name spacex_launch_geo.csv is an augmented dataset with latitude and longitude added for each site."
   ]
  },
  {
   "cell_type": "code",
   "execution_count": 4,
   "id": "3d7153a6",
   "metadata": {},
   "outputs": [
    {
     "name": "stdout",
     "output_type": "stream",
     "text": [
      "Requirement already satisfied: js in c:\\users\\17032\\anaconda3\\lib\\site-packages (1.0)\n",
      "Requirement already satisfied: fanstatic in c:\\users\\17032\\anaconda3\\lib\\site-packages (from js) (1.3)\n",
      "Requirement already satisfied: setuptools in c:\\users\\17032\\anaconda3\\lib\\site-packages (from js) (61.2.0)\n",
      "Requirement already satisfied: WebOb>=1.2 in c:\\users\\17032\\anaconda3\\lib\\site-packages (from fanstatic->js) (1.8.7)\n",
      "Collecting fetch\n",
      "  Using cached fetch-0.0.tar.gz (7.3 kB)\n"
     ]
    },
    {
     "name": "stderr",
     "output_type": "stream",
     "text": [
      "    ERROR: Command errored out with exit status 1:\n",
      "     command: 'C:\\Users\\17032\\anaconda3\\python.exe' -c 'import io, os, sys, setuptools, tokenize; sys.argv[0] = '\"'\"'C:\\\\Users\\\\17032\\\\AppData\\\\Local\\\\Temp\\\\pip-install-05err36x\\\\fetch_593492274e6746499176be051e866a18\\\\setup.py'\"'\"'; __file__='\"'\"'C:\\\\Users\\\\17032\\\\AppData\\\\Local\\\\Temp\\\\pip-install-05err36x\\\\fetch_593492274e6746499176be051e866a18\\\\setup.py'\"'\"';f = getattr(tokenize, '\"'\"'open'\"'\"', open)(__file__) if os.path.exists(__file__) else io.StringIO('\"'\"'from setuptools import setup; setup()'\"'\"');code = f.read().replace('\"'\"'\\r\\n'\"'\"', '\"'\"'\\n'\"'\"');f.close();exec(compile(code, __file__, '\"'\"'exec'\"'\"'))' egg_info --egg-base 'C:\\Users\\17032\\AppData\\Local\\Temp\\pip-pip-egg-info-h0__l3uu'\n",
      "         cwd: C:\\Users\\17032\\AppData\\Local\\Temp\\pip-install-05err36x\\fetch_593492274e6746499176be051e866a18\\\n",
      "    Complete output (5 lines):\n",
      "    Traceback (most recent call last):\n",
      "      File \"<string>\", line 1, in <module>\n",
      "      File \"C:\\Users\\17032\\AppData\\Local\\Temp\\pip-install-05err36x\\fetch_593492274e6746499176be051e866a18\\setup.py\", line 6, in <module>\n",
      "        description = file(os.path.join(here, 'README.txt')).read()\n",
      "    NameError: name 'file' is not defined\n",
      "    ----------------------------------------\n",
      "WARNING: Discarding https://files.pythonhosted.org/packages/95/e5/9e5775c180fce1da40c04468f78e1305b49895fb3abefbaa85f0a4de6e63/fetch-0.0.tar.gz#sha256=6f5f6e00d853671c4dc27023c19b2ed462334e757ce1f3dcfdcf18325ae27490 (from https://pypi.org/simple/fetch/). Command errored out with exit status 1: python setup.py egg_info Check the logs for full command output.\n",
      "ERROR: Could not find a version that satisfies the requirement fetch (from versions: 0.0)\n",
      "ERROR: No matching distribution found for fetch\n"
     ]
    }
   ],
   "source": [
    "!pip install js\n",
    "!pip install fetch"
   ]
  },
  {
   "cell_type": "code",
   "execution_count": 6,
   "id": "5d4516b0",
   "metadata": {},
   "outputs": [
    {
     "ename": "ModuleNotFoundError",
     "evalue": "No module named 'fetch_import'",
     "output_type": "error",
     "traceback": [
      "\u001b[1;31m---------------------------------------------------------------------------\u001b[0m",
      "\u001b[1;31mModuleNotFoundError\u001b[0m                       Traceback (most recent call last)",
      "Input \u001b[1;32mIn [6]\u001b[0m, in \u001b[0;36m<cell line: 1>\u001b[1;34m()\u001b[0m\n\u001b[1;32m----> 1\u001b[0m \u001b[38;5;28;01mimport\u001b[39;00m \u001b[38;5;21;01mfetch_import\u001b[39;00m\n",
      "\u001b[1;31mModuleNotFoundError\u001b[0m: No module named 'fetch_import'"
     ]
    }
   ],
   "source": [
    "import fetch_import\n"
   ]
  },
  {
   "cell_type": "code",
   "execution_count": 7,
   "id": "25b51532",
   "metadata": {},
   "outputs": [],
   "source": [
    "# Download and read the `spacex_launch_geo.csv`\n",
    "#from js import fetch\n",
    "import io\n",
    "\n",
    "URL = 'https://cf-courses-data.s3.us.cloud-object-storage.appdomain.cloud/IBM-DS0321EN-SkillsNetwork/datasets/spacex_launch_geo.csv'\n",
    "#resp = await fetch(URL)\n",
    "#spacex_csv_file = io.BytesIO((await resp.arrayBuffer()).to_py())\n",
    "#spacex_df=pd.read_csv('sspacex_csv_file.csv')"
   ]
  },
  {
   "cell_type": "code",
   "execution_count": 8,
   "id": "753fd658",
   "metadata": {},
   "outputs": [],
   "source": [
    "import os\n"
   ]
  },
  {
   "cell_type": "code",
   "execution_count": 10,
   "id": "0c4fdc8e",
   "metadata": {},
   "outputs": [
    {
     "data": {
      "text/plain": [
       "'C:\\\\Users\\\\17032'"
      ]
     },
     "execution_count": 10,
     "metadata": {},
     "output_type": "execute_result"
    }
   ],
   "source": [
    "os.getcwd()\n"
   ]
  },
  {
   "cell_type": "code",
   "execution_count": 14,
   "id": "ebd825d2",
   "metadata": {},
   "outputs": [],
   "source": [
    "spacex_df=pd.read_csv('https://cf-courses-data.s3.us.cloud-object-storage.appdomain.cloud/IBM-DS0321EN-SkillsNetwork/datasets/spacex_launch_geo.csv')\n"
   ]
  },
  {
   "cell_type": "code",
   "execution_count": 15,
   "id": "ef9ace19",
   "metadata": {},
   "outputs": [
    {
     "data": {
      "text/html": [
       "<div>\n",
       "<style scoped>\n",
       "    .dataframe tbody tr th:only-of-type {\n",
       "        vertical-align: middle;\n",
       "    }\n",
       "\n",
       "    .dataframe tbody tr th {\n",
       "        vertical-align: top;\n",
       "    }\n",
       "\n",
       "    .dataframe thead th {\n",
       "        text-align: right;\n",
       "    }\n",
       "</style>\n",
       "<table border=\"1\" class=\"dataframe\">\n",
       "  <thead>\n",
       "    <tr style=\"text-align: right;\">\n",
       "      <th></th>\n",
       "      <th>Launch Site</th>\n",
       "      <th>Lat</th>\n",
       "      <th>Long</th>\n",
       "    </tr>\n",
       "  </thead>\n",
       "  <tbody>\n",
       "    <tr>\n",
       "      <th>0</th>\n",
       "      <td>CCAFS LC-40</td>\n",
       "      <td>28.562302</td>\n",
       "      <td>-80.577356</td>\n",
       "    </tr>\n",
       "    <tr>\n",
       "      <th>1</th>\n",
       "      <td>CCAFS SLC-40</td>\n",
       "      <td>28.563197</td>\n",
       "      <td>-80.576820</td>\n",
       "    </tr>\n",
       "    <tr>\n",
       "      <th>2</th>\n",
       "      <td>KSC LC-39A</td>\n",
       "      <td>28.573255</td>\n",
       "      <td>-80.646895</td>\n",
       "    </tr>\n",
       "    <tr>\n",
       "      <th>3</th>\n",
       "      <td>VAFB SLC-4E</td>\n",
       "      <td>34.632834</td>\n",
       "      <td>-120.610746</td>\n",
       "    </tr>\n",
       "  </tbody>\n",
       "</table>\n",
       "</div>"
      ],
      "text/plain": [
       "    Launch Site        Lat        Long\n",
       "0   CCAFS LC-40  28.562302  -80.577356\n",
       "1  CCAFS SLC-40  28.563197  -80.576820\n",
       "2    KSC LC-39A  28.573255  -80.646895\n",
       "3   VAFB SLC-4E  34.632834 -120.610746"
      ]
     },
     "execution_count": 15,
     "metadata": {},
     "output_type": "execute_result"
    }
   ],
   "source": [
    "# Select relevant sub-columns: `Launch Site`, `Lat(Latitude)`, `Long(Longitude)`, `class`\n",
    "spacex_df = spacex_df[['Launch Site', 'Lat', 'Long', 'class']]\n",
    "launch_sites_df = spacex_df.groupby(['Launch Site'], as_index=False).first()\n",
    "launch_sites_df = launch_sites_df[['Launch Site', 'Lat', 'Long']]\n",
    "launch_sites_df"
   ]
  },
  {
   "cell_type": "markdown",
   "id": "542a978b",
   "metadata": {},
   "source": [
    "Above coordinates are just plain numbers that can not give you any intuitive insights about where are those launch sites. If you are very good at geography, you can interpret those numbers directly in your mind. If not, that's fine too. Let's visualize those locations by pinning them on a map.\n",
    "\n",
    "We first need to create a folium Map object, with an initial center location to be NASA Johnson Space Center at Houston, Texas."
   ]
  },
  {
   "cell_type": "code",
   "execution_count": 16,
   "id": "4bf6fac4",
   "metadata": {},
   "outputs": [],
   "source": [
    "# Start location is NASA Johnson Space Center\n",
    "nasa_coordinate = [29.559684888503615, -95.0830971930759]\n",
    "site_map = folium.Map(location=nasa_coordinate, zoom_start=10)"
   ]
  },
  {
   "cell_type": "markdown",
   "id": "f8329a1e",
   "metadata": {},
   "source": [
    "We could use folium.Circle to add a highlighted circle area with a text label on a specific coordinate. For example,\n",
    "\n"
   ]
  },
  {
   "cell_type": "code",
   "execution_count": null,
   "id": "8c00b3d9",
   "metadata": {},
   "outputs": [],
   "source": [
    "# Create a blue circle at NASA Johnson Space Center's coordinate with a popup label showing its name\n",
    "circle = folium.Circle(nasa_coordinate, radius=1000, color='#d35400', fill=True).add_child(folium.Popup('NASA Johnson Space Center'))\n",
    "# Create a blue circle at NASA Johnson Space Center's coordinate with a icon showing its name\n",
    "marker = folium.map.Marker(\n",
    "    nasa_coordinate,\n",
    "    # Create an icon as a text label\n",
    "    icon=DivIcon(\n",
    "        icon_size=(20,20),\n",
    "        icon_anchor=(0,0),\n",
    "        html='<div style=\"font-size: 12; color:#d35400;\"><b>%s</b></div>' % 'NASA JSC',\n",
    "        )\n",
    "    )\n",
    "site_map.add_child(circle)\n",
    "site_map.add_child(marker)\n",
    "\n",
    "# Create a blue circle at launch site coordinate with a popup label showing its name\n",
    "circle = folium.Circle(CCAFSLC_coordinate, radius=1000, color='#d35400', fill=True).add_child(folium.Popup('launch site Space Center'))\n",
    "# Create a blue circle at launch site Space Center coordinate with a icon showing its name\n",
    "marker = folium.map.Marker(\n",
    "    CCAFSLC_coordinate,\n",
    "    # Create an icon as a text label\n",
    "    icon=DivIcon(\n",
    "        icon_size=(20,20),\n",
    "        icon_anchor=(0,0),\n",
    "        html='<div style=\"font-size: 12; color:#d35400;\"><b>%s</b></div>' % 'CCAFSLC',\n",
    "        )\n",
    "    )\n",
    "site_map.add_child(circle)\n",
    "site_map.add_child(marker)"
   ]
  },
  {
   "cell_type": "markdown",
   "id": "328a951b",
   "metadata": {},
   "source": [
    "Make this Notebook Trusted to load map: File -> Trust Notebook\n"
   ]
  },
  {
   "cell_type": "code",
   "execution_count": null,
   "id": "05015672",
   "metadata": {},
   "outputs": [],
   "source": []
  }
 ],
 "metadata": {
  "kernelspec": {
   "display_name": "Python 3 (ipykernel)",
   "language": "python",
   "name": "python3"
  },
  "language_info": {
   "codemirror_mode": {
    "name": "ipython",
    "version": 3
   },
   "file_extension": ".py",
   "mimetype": "text/x-python",
   "name": "python",
   "nbconvert_exporter": "python",
   "pygments_lexer": "ipython3",
   "version": "3.9.12"
  }
 },
 "nbformat": 4,
 "nbformat_minor": 5
}
